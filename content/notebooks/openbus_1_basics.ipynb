{
 "cells": [
  {
   "cell_type": "code",
   "execution_count": 1,
   "metadata": {},
   "outputs": [],
   "source": [
    "import pandas as pd\n",
    "import numpy as np\n",
    "import matplotlib.pyplot as plt\n",
    "import seaborn as sns\n",
    "from ftplib import FTP\n",
    "import datetime\n",
    "import re\n",
    "import zipfile\n",
    "import os\n",
    "\n",
    "%matplotlib inline\n",
    "plt.rcParams['figure.figsize'] = (10, 5) # set default size of plots\n",
    "\n",
    "sns.set_style(\"white\")\n",
    "sns.set_context(\"talk\")\n",
    "sns.set_palette('Set2', 10)"
   ]
  },
  {
   "cell_type": "markdown",
   "metadata": {},
   "source": [
    "# Exploring Israel's MOT GTFS files...\n",
    "Over at [hasadna/open-bus](https://github.com/hasadna/open-bus) we want to build an archive of country-wide bus arrival times. Our way to get there is through a [SIRI interface](https://www.gov.il/he/Departments/General/real_time_information_siri) provided by the Ministry of Transportation. We need to continually make SOAP requests, in such a way so that their aggregated bus location responses will allow us to calculate arrival times for all bus rides across the country. \n",
    "\n",
    "In order to do so, I want to first analyze MOT's [static GTFS data](https://www.gov.il/he/Departments/General/gtfs_general_transit_feed_specifications) to figure out what kind of numbers we're talking about, so we can start talking about design and scale for building an efficient and robust archiving module for SIRI realtime info. \n",
    "\n",
    "The agenda for this notebook is roughly so: (you can skip to item 3 if you're just interested in the stats):\n",
    "1. [Get up-to-date GTFS files from the MOT FTP server](#Get-the-data)\n",
    "2. [Extract the needed info from them into tidy pandas DataFrames](#Tidy-it-up)\n",
    "3. [Some basic exploratory analysis examples](#Basic-exploratory-analysis)\n",
    "4. [One the next episodes](#On-the-next-episodes) Yep, not all is covered in this notebook\n",
    "\n",
    "*side note - Hasadna's OpenBus project has the data in a DB. \n",
    "I'm not using it here, since want this notebook to be standalone for further exploration*"
   ]
  },
  {
   "cell_type": "markdown",
   "metadata": {},
   "source": [
    "# Get the data\n",
    "Start by making an FTP connection and retrieve the gtfs zip file's modification date. We're restricted from using most commands, but we can LIST..."
   ]
  },
  {
   "cell_type": "code",
   "execution_count": 2,
   "metadata": {},
   "outputs": [
    {
     "data": {
      "text/plain": [
       "['11-18-13  02:20PM       <DIR>          aspnet_client',\n",
       " '02-19-18  11:32PM                24118 ClusterToLine.zip',\n",
       " '02-19-18  11:32PM            197907213 israel-public-transportation.zip',\n",
       " '02-19-18  11:32PM               100035 Tariff.zip',\n",
       " '02-19-18  11:32PM                26831 TrainOfficeLineId.zip',\n",
       " '02-19-18  11:32PM              6637928 TripIdToDate.zip',\n",
       " '12-20-17  04:37PM                53105 zones.zip']"
      ]
     },
     "execution_count": 2,
     "metadata": {},
     "output_type": "execute_result"
    }
   ],
   "source": [
    "MOT_FTP = 'gtfs.mot.gov.il'\n",
    "FILE_NAME = 'israel-public-transportation.zip'\n",
    "UPTODATE = 90 #days\n",
    "local_zip_path = 'data/sample/gtfs.zip' \n",
    "\n",
    "conn = FTP(MOT_FTP)\n",
    "conn.login()\n",
    "ftp_dir = []\n",
    "conn.retrlines('LIST', lambda x: ftp_dir.append(x)) \n",
    "ftp_dir"
   ]
  },
  {
   "cell_type": "markdown",
   "metadata": {},
   "source": [
    "Now that we have a list of file records, lets extract the dates and see if our file is up-to-date"
   ]
  },
  {
   "cell_type": "code",
   "execution_count": 3,
   "metadata": {},
   "outputs": [
    {
     "name": "stdout",
     "output_type": "stream",
     "text": [
      "Our zip is 62 days old\n",
      "Oh goody! we're up-to-date!\n"
     ]
    }
   ],
   "source": [
    "RE_FTP_LINE = re.compile(\n",
    "    r'(?P<date>\\d+-\\d+-\\d+\\s+\\d+:\\d+[APM]{2})\\s+(?P<size><DIR>|[0-9]+)\\s+(?P<file_name>.*)')\n",
    "f = [re.findall(RE_FTP_LINE, line) for line in ftp_dir]\n",
    "f_dates = {t[0][2]: datetime.datetime.strptime(t[0][0], \"%m-%d-%y  %H:%M%p\") for t in f}\n",
    "\n",
    "ftp_date = f_dates[FILE_NAME]\n",
    "\n",
    "our_date = datetime.datetime.fromtimestamp(os.path.getmtime(local_zip_path))\n",
    "\n",
    "our_uptodateness = (ftp_date - our_date).days\n",
    "print(f'Our zip is {our_uptodateness} days old')\n",
    "if our_uptodateness > UPTODATE:\n",
    "    print('Oh snap we need to download a new zip...')\n",
    "else:\n",
    "    print('Oh goody! we\\'re up-to-date!')\n"
   ]
  },
  {
   "cell_type": "markdown",
   "metadata": {},
   "source": [
    "And now we shall actually download the zip... if we really want to..."
   ]
  },
  {
   "cell_type": "code",
   "execution_count": 4,
   "metadata": {},
   "outputs": [
    {
     "data": {
      "text/plain": [
       "'221 Goodbye.'"
      ]
     },
     "execution_count": 4,
     "metadata": {},
     "output_type": "execute_result"
    }
   ],
   "source": [
    "if our_uptodateness > UPTODATE:\n",
    "    temp_local_path = 'data/sample/gtfs_temp.zip'\n",
    "    fh = open(temp_local_path, 'wb')\n",
    "    conn.retrbinary('RETR %s' % (FILE_NAME), fh.write)\n",
    "    fh.close()\n",
    "    os.remove(local_zip_path)\n",
    "    os.rename(temp_local_path, local_zip_path)\n",
    "\n",
    "conn.quit()\n",
    "    "
   ]
  },
  {
   "cell_type": "code",
   "execution_count": 5,
   "metadata": {
    "scrolled": false
   },
   "outputs": [
    {
     "data": {
      "text/html": [
       "<div>\n",
       "<style scoped>\n",
       "    .dataframe tbody tr th:only-of-type {\n",
       "        vertical-align: middle;\n",
       "    }\n",
       "\n",
       "    .dataframe tbody tr th {\n",
       "        vertical-align: top;\n",
       "    }\n",
       "\n",
       "    .dataframe thead th {\n",
       "        text-align: right;\n",
       "    }\n",
       "</style>\n",
       "<table border=\"1\" class=\"dataframe\">\n",
       "  <thead>\n",
       "    <tr style=\"text-align: right;\">\n",
       "      <th></th>\n",
       "      <th>stop_id</th>\n",
       "      <th>stop_code</th>\n",
       "      <th>stop_name</th>\n",
       "      <th>stop_desc</th>\n",
       "      <th>stop_lat</th>\n",
       "      <th>stop_lon</th>\n",
       "      <th>location_type</th>\n",
       "      <th>parent_station</th>\n",
       "      <th>zone_id</th>\n",
       "    </tr>\n",
       "  </thead>\n",
       "  <tbody>\n",
       "    <tr>\n",
       "      <th>0</th>\n",
       "      <td>1</td>\n",
       "      <td>38831</td>\n",
       "      <td>בי''ס בר לב/בן יהודה</td>\n",
       "      <td>רחוב:בן יהודה 76 עיר: כפר סבא רציף:   קומה:</td>\n",
       "      <td>32.183939</td>\n",
       "      <td>34.917812</td>\n",
       "      <td>0</td>\n",
       "      <td>NaN</td>\n",
       "      <td>221.0</td>\n",
       "    </tr>\n",
       "    <tr>\n",
       "      <th>1</th>\n",
       "      <td>2</td>\n",
       "      <td>38832</td>\n",
       "      <td>הרצל/צומת בילו</td>\n",
       "      <td>רחוב:הרצל  עיר: קרית עקרון רציף:   קומה:</td>\n",
       "      <td>31.870034</td>\n",
       "      <td>34.819541</td>\n",
       "      <td>0</td>\n",
       "      <td>NaN</td>\n",
       "      <td>223.0</td>\n",
       "    </tr>\n",
       "    <tr>\n",
       "      <th>2</th>\n",
       "      <td>3</td>\n",
       "      <td>38833</td>\n",
       "      <td>הנחשול/הדייגים</td>\n",
       "      <td>רחוב:הנחשול 30 עיר: ראשון לציון רציף:   קומה:</td>\n",
       "      <td>31.984558</td>\n",
       "      <td>34.782815</td>\n",
       "      <td>0</td>\n",
       "      <td>NaN</td>\n",
       "      <td>210.0</td>\n",
       "    </tr>\n",
       "    <tr>\n",
       "      <th>3</th>\n",
       "      <td>4</td>\n",
       "      <td>38834</td>\n",
       "      <td>פריד/ששת הימים</td>\n",
       "      <td>רחוב:משה פריד 9 עיר: רחובות רציף:   קומה:</td>\n",
       "      <td>31.888550</td>\n",
       "      <td>34.790904</td>\n",
       "      <td>0</td>\n",
       "      <td>NaN</td>\n",
       "      <td>223.0</td>\n",
       "    </tr>\n",
       "    <tr>\n",
       "      <th>4</th>\n",
       "      <td>6</td>\n",
       "      <td>38836</td>\n",
       "      <td>תחנה מרכזית לוד/הורדה</td>\n",
       "      <td>רחוב:  עיר: לוד רציף:   קומה:</td>\n",
       "      <td>31.956576</td>\n",
       "      <td>34.898125</td>\n",
       "      <td>0</td>\n",
       "      <td>NaN</td>\n",
       "      <td>210.0</td>\n",
       "    </tr>\n",
       "  </tbody>\n",
       "</table>\n",
       "</div>"
      ],
      "text/plain": [
       "   stop_id  stop_code              stop_name  \\\n",
       "0        1      38831   בי''ס בר לב/בן יהודה   \n",
       "1        2      38832         הרצל/צומת בילו   \n",
       "2        3      38833         הנחשול/הדייגים   \n",
       "3        4      38834         פריד/ששת הימים   \n",
       "4        6      38836  תחנה מרכזית לוד/הורדה   \n",
       "\n",
       "                                          stop_desc   stop_lat   stop_lon  \\\n",
       "0     רחוב:בן יהודה 76 עיר: כפר סבא רציף:   קומה:    32.183939  34.917812   \n",
       "1        רחוב:הרצל  עיר: קרית עקרון רציף:   קומה:    31.870034  34.819541   \n",
       "2   רחוב:הנחשול 30 עיר: ראשון לציון רציף:   קומה:    31.984558  34.782815   \n",
       "3       רחוב:משה פריד 9 עיר: רחובות רציף:   קומה:    31.888550  34.790904   \n",
       "4                   רחוב:  עיר: לוד רציף:   קומה:    31.956576  34.898125   \n",
       "\n",
       "   location_type  parent_station  zone_id  \n",
       "0              0             NaN    221.0  \n",
       "1              0             NaN    223.0  \n",
       "2              0             NaN    210.0  \n",
       "3              0             NaN    223.0  \n",
       "4              0             NaN    210.0  "
      ]
     },
     "execution_count": 5,
     "metadata": {},
     "output_type": "execute_result"
    }
   ],
   "source": [
    "h5_file_path = 'data/gtfs_store.h5'\n",
    "if our_uptodateness > UPTODATE:\n",
    "    os.remove(h5_file_path)\n",
    "store = pd.HDFStore(h5_file_path)\n",
    "if our_uptodateness > UPTODATE:\n",
    "    with zipfile.ZipFile(local_zip_path) as zf:\n",
    "        for fn in zf.namelist():\n",
    "            short = fn.split('.')[0]\n",
    "            if short not in store:\n",
    "                store[short] = pd.read_csv(zf.open(fn))\n",
    "\n",
    "store.stops.head()"
   ]
  },
  {
   "cell_type": "markdown",
   "metadata": {},
   "source": [
    "Lets also load MOT's tarrif.txt file, which will give us zone names and other local info"
   ]
  },
  {
   "cell_type": "code",
   "execution_count": 6,
   "metadata": {},
   "outputs": [
    {
     "data": {
      "text/plain": [
       "'221 Goodbye.'"
      ]
     },
     "execution_count": 6,
     "metadata": {},
     "output_type": "execute_result"
    }
   ],
   "source": [
    "TARIFF_FILE_NAME = 'Tariff.zip'\n",
    "TARIFF_TXT_NAME = 'Tariff.txt'\n",
    "local_tariff_path = 'data/sample/tariff.zip' \n",
    "\n",
    "conn = FTP(MOT_FTP)\n",
    "conn.login()\n",
    "fh = open(local_tariff_path, 'wb')\n",
    "conn.retrbinary('RETR %s' % (TARIFF_FILE_NAME), fh.write)\n",
    "fh.close()\n",
    "conn.quit()"
   ]
  },
  {
   "cell_type": "markdown",
   "metadata": {},
   "source": [
    "# Tidy it up\n",
    "Many of Seaborn's built-in features call for the data to be in a Pandas DataFrame and to take the form of what Hadley Whickam calls [“tidy” data](http://vita.had.co.nz/papers/tidy-data.pdf). In brief, that means your dataframe should be structured such that each column is a variable and each row is an observation.\n",
    "\n",
    "Moreover, as Tom Augspurger [claims here](https://tomaugspurger.github.io/modern-5-tidy.html), starting an analysis with a tidy dataset should truly help *\"facilitate analysis: going as quickly as possible from question to answer.\"* I'm taking his word on this now, and hope to show this in work here too.\n",
    "\n",
    "Later, We'll also play a little bit with pivoting between long and wide formats.\n",
    "\n",
    "We'll start with one tidy dataset for stop_times, I'll use [partridge](https://github.com/remix/partridge/tree/master/partridge) for filtering on dates. "
   ]
  },
  {
   "cell_type": "code",
   "execution_count": 7,
   "metadata": {},
   "outputs": [],
   "source": [
    "import partridge as ptg\n",
    "\n",
    "service_ids_by_date = ptg.read_service_ids_by_date(local_zip_path)\n",
    "service_ids = service_ids_by_date[datetime.date(2017, 12, 21)]\n",
    "\n",
    "feed = ptg.feed(local_zip_path, view={\n",
    "    'trips.txt': {\n",
    "        'service_id': service_ids,\n",
    "    },\n",
    "})\n"
   ]
  },
  {
   "cell_type": "markdown",
   "metadata": {},
   "source": [
    "The partridge feed now references all the GTFS files in the zip, and will only load them to memory only once used"
   ]
  },
  {
   "cell_type": "code",
   "execution_count": 8,
   "metadata": {},
   "outputs": [
    {
     "data": {
      "text/plain": [
       "['agency',\n",
       " 'calendar',\n",
       " 'calendar_dates',\n",
       " 'config',\n",
       " 'dates_by_service_ids',\n",
       " 'fare_attributes',\n",
       " 'fare_rules',\n",
       " 'feed_info',\n",
       " 'frequencies',\n",
       " 'path',\n",
       " 'routes',\n",
       " 'service_ids_by_date',\n",
       " 'shapes',\n",
       " 'stop_times',\n",
       " 'stops',\n",
       " 'transfers',\n",
       " 'trip_counts_by_date',\n",
       " 'trips',\n",
       " 'view',\n",
       " 'zmap']"
      ]
     },
     "execution_count": 8,
     "metadata": {},
     "output_type": "execute_result"
    }
   ],
   "source": [
    "[x for x in dir(feed) if not x.startswith('__')]"
   ]
  },
  {
   "cell_type": "markdown",
   "metadata": {},
   "source": [
    "Getting a DataFrame is as easy as..."
   ]
  },
  {
   "cell_type": "code",
   "execution_count": 9,
   "metadata": {
    "scrolled": true
   },
   "outputs": [
    {
     "data": {
      "text/html": [
       "<div>\n",
       "<style scoped>\n",
       "    .dataframe tbody tr th:only-of-type {\n",
       "        vertical-align: middle;\n",
       "    }\n",
       "\n",
       "    .dataframe tbody tr th {\n",
       "        vertical-align: top;\n",
       "    }\n",
       "\n",
       "    .dataframe thead th {\n",
       "        text-align: right;\n",
       "    }\n",
       "</style>\n",
       "<table border=\"1\" class=\"dataframe\">\n",
       "  <thead>\n",
       "    <tr style=\"text-align: right;\">\n",
       "      <th></th>\n",
       "      <th>stop_id</th>\n",
       "      <th>stop_code</th>\n",
       "      <th>stop_name</th>\n",
       "      <th>stop_desc</th>\n",
       "      <th>stop_lat</th>\n",
       "      <th>stop_lon</th>\n",
       "      <th>location_type</th>\n",
       "      <th>parent_station</th>\n",
       "      <th>zone_id</th>\n",
       "    </tr>\n",
       "  </thead>\n",
       "  <tbody>\n",
       "    <tr>\n",
       "      <th>0</th>\n",
       "      <td>1</td>\n",
       "      <td>38831</td>\n",
       "      <td>בי''ס בר לב/בן יהודה</td>\n",
       "      <td>רחוב:בן יהודה 76 עיר: כפר סבא רציף:   קומה:</td>\n",
       "      <td>32.183939</td>\n",
       "      <td>34.917812</td>\n",
       "      <td>0</td>\n",
       "      <td>NaN</td>\n",
       "      <td>221</td>\n",
       "    </tr>\n",
       "    <tr>\n",
       "      <th>1</th>\n",
       "      <td>2</td>\n",
       "      <td>38832</td>\n",
       "      <td>הרצל/צומת בילו</td>\n",
       "      <td>רחוב:הרצל  עיר: קרית עקרון רציף:   קומה:</td>\n",
       "      <td>31.870034</td>\n",
       "      <td>34.819541</td>\n",
       "      <td>0</td>\n",
       "      <td>NaN</td>\n",
       "      <td>223</td>\n",
       "    </tr>\n",
       "    <tr>\n",
       "      <th>2</th>\n",
       "      <td>3</td>\n",
       "      <td>38833</td>\n",
       "      <td>הנחשול/הדייגים</td>\n",
       "      <td>רחוב:הנחשול 30 עיר: ראשון לציון רציף:   קומה:</td>\n",
       "      <td>31.984558</td>\n",
       "      <td>34.782815</td>\n",
       "      <td>0</td>\n",
       "      <td>NaN</td>\n",
       "      <td>210</td>\n",
       "    </tr>\n",
       "    <tr>\n",
       "      <th>3</th>\n",
       "      <td>4</td>\n",
       "      <td>38834</td>\n",
       "      <td>פריד/ששת הימים</td>\n",
       "      <td>רחוב:משה פריד 9 עיר: רחובות רציף:   קומה:</td>\n",
       "      <td>31.888550</td>\n",
       "      <td>34.790904</td>\n",
       "      <td>0</td>\n",
       "      <td>NaN</td>\n",
       "      <td>223</td>\n",
       "    </tr>\n",
       "    <tr>\n",
       "      <th>4</th>\n",
       "      <td>6</td>\n",
       "      <td>38836</td>\n",
       "      <td>תחנה מרכזית לוד/הורדה</td>\n",
       "      <td>רחוב:  עיר: לוד רציף:   קומה:</td>\n",
       "      <td>31.956576</td>\n",
       "      <td>34.898125</td>\n",
       "      <td>0</td>\n",
       "      <td>NaN</td>\n",
       "      <td>210</td>\n",
       "    </tr>\n",
       "  </tbody>\n",
       "</table>\n",
       "</div>"
      ],
      "text/plain": [
       "  stop_id stop_code              stop_name  \\\n",
       "0       1     38831   בי''ס בר לב/בן יהודה   \n",
       "1       2     38832         הרצל/צומת בילו   \n",
       "2       3     38833         הנחשול/הדייגים   \n",
       "3       4     38834         פריד/ששת הימים   \n",
       "4       6     38836  תחנה מרכזית לוד/הורדה   \n",
       "\n",
       "                                       stop_desc   stop_lat   stop_lon  \\\n",
       "0    רחוב:בן יהודה 76 עיר: כפר סבא רציף:   קומה:  32.183939  34.917812   \n",
       "1       רחוב:הרצל  עיר: קרית עקרון רציף:   קומה:  31.870034  34.819541   \n",
       "2  רחוב:הנחשול 30 עיר: ראשון לציון רציף:   קומה:  31.984558  34.782815   \n",
       "3      רחוב:משה פריד 9 עיר: רחובות רציף:   קומה:  31.888550  34.790904   \n",
       "4                  רחוב:  עיר: לוד רציף:   קומה:  31.956576  34.898125   \n",
       "\n",
       "   location_type parent_station zone_id  \n",
       "0              0            NaN     221  \n",
       "1              0            NaN     223  \n",
       "2              0            NaN     210  \n",
       "3              0            NaN     223  \n",
       "4              0            NaN     210  "
      ]
     },
     "execution_count": 9,
     "metadata": {},
     "output_type": "execute_result"
    }
   ],
   "source": [
    "s = feed.stops\n",
    "s.head()"
   ]
  },
  {
   "cell_type": "markdown",
   "metadata": {},
   "source": [
    "Before we build our first stop times tidy DataFrame, we need tariff.txt as a DataFrame"
   ]
  },
  {
   "cell_type": "code",
   "execution_count": 10,
   "metadata": {},
   "outputs": [
    {
     "data": {
      "text/html": [
       "<div>\n",
       "<style scoped>\n",
       "    .dataframe tbody tr th:only-of-type {\n",
       "        vertical-align: middle;\n",
       "    }\n",
       "\n",
       "    .dataframe tbody tr th {\n",
       "        vertical-align: top;\n",
       "    }\n",
       "\n",
       "    .dataframe thead th {\n",
       "        text-align: right;\n",
       "    }\n",
       "</style>\n",
       "<table border=\"1\" class=\"dataframe\">\n",
       "  <thead>\n",
       "    <tr style=\"text-align: right;\">\n",
       "      <th></th>\n",
       "      <th>ShareCode</th>\n",
       "      <th>zone_name</th>\n",
       "      <th>zone_id</th>\n",
       "      <th>Daily</th>\n",
       "      <th>Weekly</th>\n",
       "      <th>Monthly</th>\n",
       "      <th>FromDate</th>\n",
       "      <th>ToDate</th>\n",
       "    </tr>\n",
       "  </thead>\n",
       "  <tbody>\n",
       "    <tr>\n",
       "      <th>0</th>\n",
       "      <td>141</td>\n",
       "      <td>גוש דן</td>\n",
       "      <td>210</td>\n",
       "      <td>13.5</td>\n",
       "      <td>64.0</td>\n",
       "      <td>213.0</td>\n",
       "      <td>01/04/2016 00:00:00</td>\n",
       "      <td>01/01/2200 00:00:00</td>\n",
       "    </tr>\n",
       "    <tr>\n",
       "      <th>10</th>\n",
       "      <td>152</td>\n",
       "      <td>שרון</td>\n",
       "      <td>221</td>\n",
       "      <td>13.5</td>\n",
       "      <td>57.5</td>\n",
       "      <td>149.0</td>\n",
       "      <td>01/04/2016 00:00:00</td>\n",
       "      <td>01/01/2200 00:00:00</td>\n",
       "    </tr>\n",
       "    <tr>\n",
       "      <th>11</th>\n",
       "      <td>153</td>\n",
       "      <td>ראש העין שוהם</td>\n",
       "      <td>222</td>\n",
       "      <td>13.5</td>\n",
       "      <td>57.5</td>\n",
       "      <td>149.0</td>\n",
       "      <td>01/04/2016 00:00:00</td>\n",
       "      <td>01/01/2200 00:00:00</td>\n",
       "    </tr>\n",
       "    <tr>\n",
       "      <th>12</th>\n",
       "      <td>154</td>\n",
       "      <td>רחובות</td>\n",
       "      <td>223</td>\n",
       "      <td>13.5</td>\n",
       "      <td>57.5</td>\n",
       "      <td>149.0</td>\n",
       "      <td>01/04/2016 00:00:00</td>\n",
       "      <td>01/01/2200 00:00:00</td>\n",
       "    </tr>\n",
       "    <tr>\n",
       "      <th>13</th>\n",
       "      <td>155</td>\n",
       "      <td>נתניה</td>\n",
       "      <td>231</td>\n",
       "      <td>13.5</td>\n",
       "      <td>57.5</td>\n",
       "      <td>149.0</td>\n",
       "      <td>01/04/2016 00:00:00</td>\n",
       "      <td>01/01/2200 00:00:00</td>\n",
       "    </tr>\n",
       "  </tbody>\n",
       "</table>\n",
       "</div>"
      ],
      "text/plain": [
       "    ShareCode      zone_name zone_id  Daily  Weekly  Monthly  \\\n",
       "0         141         גוש דן     210   13.5    64.0    213.0   \n",
       "10        152           שרון     221   13.5    57.5    149.0   \n",
       "11        153  ראש העין שוהם     222   13.5    57.5    149.0   \n",
       "12        154         רחובות     223   13.5    57.5    149.0   \n",
       "13        155          נתניה     231   13.5    57.5    149.0   \n",
       "\n",
       "               FromDate               ToDate  \n",
       "0   01/04/2016 00:00:00  01/01/2200 00:00:00  \n",
       "10  01/04/2016 00:00:00  01/01/2200 00:00:00  \n",
       "11  01/04/2016 00:00:00  01/01/2200 00:00:00  \n",
       "12  01/04/2016 00:00:00  01/01/2200 00:00:00  \n",
       "13  01/04/2016 00:00:00  01/01/2200 00:00:00  "
      ]
     },
     "execution_count": 10,
     "metadata": {},
     "output_type": "execute_result"
    }
   ],
   "source": [
    "# not a true csv, so we need to jiggle it a bit\n",
    "cols = ['ShareCode','ShareCodeDesc','ZoneCodes','Daily','Weekly','Monthly','FromDate','ToDate', 'EXTRA']\n",
    "with zipfile.ZipFile(local_tariff_path) as zf:\n",
    "    tariff_df = (pd.read_csv(zf.open(TARIFF_TXT_NAME), header=None, skiprows=[0], names = cols)\n",
    "    .drop(columns = ['EXTRA']))\n",
    "# remove ShareCodes which contain multiple zones  e.g. גוש דן מורחב\n",
    "tariff_df = (tariff_df[~ tariff_df.ZoneCodes.str.contains(';')]\n",
    "             .rename(columns = {'ShareCodeDesc': 'zone_name',\n",
    "                               'ZoneCodes': 'zone_id'}))\n",
    "tariff_df.head()"
   ]
  },
  {
   "cell_type": "markdown",
   "metadata": {},
   "source": [
    "And we're ready to build our final stop_times DataFrame. Not a lot of work on it, as it is already in a good tidy format, just select the columns we want, do some transformations and merges."
   ]
  },
  {
   "cell_type": "code",
   "execution_count": 11,
   "metadata": {},
   "outputs": [
    {
     "data": {
      "text/html": [
       "<div>\n",
       "<style scoped>\n",
       "    .dataframe tbody tr th:only-of-type {\n",
       "        vertical-align: middle;\n",
       "    }\n",
       "\n",
       "    .dataframe tbody tr th {\n",
       "        vertical-align: top;\n",
       "    }\n",
       "\n",
       "    .dataframe thead th {\n",
       "        text-align: right;\n",
       "    }\n",
       "</style>\n",
       "<table border=\"1\" class=\"dataframe\">\n",
       "  <thead>\n",
       "    <tr style=\"text-align: right;\">\n",
       "      <th></th>\n",
       "      <th>trip_id</th>\n",
       "      <th>arrival_time</th>\n",
       "      <th>stop_id</th>\n",
       "      <th>date</th>\n",
       "      <th>stop_name</th>\n",
       "      <th>stop_lat</th>\n",
       "      <th>stop_lon</th>\n",
       "      <th>zone_id</th>\n",
       "      <th>zone_name</th>\n",
       "    </tr>\n",
       "  </thead>\n",
       "  <tbody>\n",
       "    <tr>\n",
       "      <th>0</th>\n",
       "      <td>28917380_191217</td>\n",
       "      <td>08:57:00</td>\n",
       "      <td>37312</td>\n",
       "      <td>2017-12-21</td>\n",
       "      <td>באר שבע מרכז</td>\n",
       "      <td>31.242886</td>\n",
       "      <td>34.798546</td>\n",
       "      <td>410</td>\n",
       "      <td>באר שבע</td>\n",
       "    </tr>\n",
       "    <tr>\n",
       "      <th>1</th>\n",
       "      <td>28917385_191217</td>\n",
       "      <td>09:57:00</td>\n",
       "      <td>37312</td>\n",
       "      <td>2017-12-21</td>\n",
       "      <td>באר שבע מרכז</td>\n",
       "      <td>31.242886</td>\n",
       "      <td>34.798546</td>\n",
       "      <td>410</td>\n",
       "      <td>באר שבע</td>\n",
       "    </tr>\n",
       "    <tr>\n",
       "      <th>2</th>\n",
       "      <td>28917390_191217</td>\n",
       "      <td>10:57:00</td>\n",
       "      <td>37312</td>\n",
       "      <td>2017-12-21</td>\n",
       "      <td>באר שבע מרכז</td>\n",
       "      <td>31.242886</td>\n",
       "      <td>34.798546</td>\n",
       "      <td>410</td>\n",
       "      <td>באר שבע</td>\n",
       "    </tr>\n",
       "    <tr>\n",
       "      <th>3</th>\n",
       "      <td>28917395_191217</td>\n",
       "      <td>11:57:00</td>\n",
       "      <td>37312</td>\n",
       "      <td>2017-12-21</td>\n",
       "      <td>באר שבע מרכז</td>\n",
       "      <td>31.242886</td>\n",
       "      <td>34.798546</td>\n",
       "      <td>410</td>\n",
       "      <td>באר שבע</td>\n",
       "    </tr>\n",
       "    <tr>\n",
       "      <th>4</th>\n",
       "      <td>28917400_191217</td>\n",
       "      <td>19:57:00</td>\n",
       "      <td>37312</td>\n",
       "      <td>2017-12-21</td>\n",
       "      <td>באר שבע מרכז</td>\n",
       "      <td>31.242886</td>\n",
       "      <td>34.798546</td>\n",
       "      <td>410</td>\n",
       "      <td>באר שבע</td>\n",
       "    </tr>\n",
       "  </tbody>\n",
       "</table>\n",
       "</div>"
      ],
      "text/plain": [
       "           trip_id arrival_time stop_id        date     stop_name   stop_lat  \\\n",
       "0  28917380_191217     08:57:00   37312  2017-12-21  באר שבע מרכז  31.242886   \n",
       "1  28917385_191217     09:57:00   37312  2017-12-21  באר שבע מרכז  31.242886   \n",
       "2  28917390_191217     10:57:00   37312  2017-12-21  באר שבע מרכז  31.242886   \n",
       "3  28917395_191217     11:57:00   37312  2017-12-21  באר שבע מרכז  31.242886   \n",
       "4  28917400_191217     19:57:00   37312  2017-12-21  באר שבע מרכז  31.242886   \n",
       "\n",
       "    stop_lon zone_id zone_name  \n",
       "0  34.798546     410   באר שבע  \n",
       "1  34.798546     410   באר שבע  \n",
       "2  34.798546     410   באר שבע  \n",
       "3  34.798546     410   באר שבע  \n",
       "4  34.798546     410   באר שבע  "
      ]
     },
     "execution_count": 11,
     "metadata": {},
     "output_type": "execute_result"
    }
   ],
   "source": [
    "def to_timedelta(df):\n",
    "    '''\n",
    "    Turn time columns into timedelta dtype\n",
    "    '''\n",
    "    cols = ['arrival_time']\n",
    "    numeric = df[cols].apply(pd.to_timedelta, unit='s')\n",
    "    df = df.copy()\n",
    "    df[cols] = numeric\n",
    "    return df\n",
    "\n",
    "f = (feed.stop_times[['trip_id', 'arrival_time', 'stop_id']]\n",
    "     .assign(date = datetime.date(2017, 12, 21))\n",
    "     .merge(s[['stop_id', 'stop_name', 'stop_lat', 'stop_lon', 'zone_id']], on='stop_id')\n",
    "     # Much faster joins and slices with Categorical dtypes\n",
    "     .assign(zone_id=lambda x: pd.Categorical(x['zone_id']))\n",
    "     .merge(tariff_df.groupby(['zone_id', 'zone_name']).size().reset_index()[['zone_id', 'zone_name']], on='zone_id')\n",
    "     .assign(zone_name=lambda x: pd.Categorical(x['zone_name']))\n",
    "     .pipe(to_timedelta)\n",
    "    )\n",
    "f.head()"
   ]
  },
  {
   "cell_type": "markdown",
   "metadata": {},
   "source": [
    "# Basic exploratory analysis"
   ]
  },
  {
   "cell_type": "markdown",
   "metadata": {},
   "source": [
    "### Big numbers"
   ]
  },
  {
   "cell_type": "markdown",
   "metadata": {},
   "source": [
    "Overall daily stops"
   ]
  },
  {
   "cell_type": "code",
   "execution_count": 12,
   "metadata": {},
   "outputs": [
    {
     "data": {
      "text/plain": [
       "3135192"
      ]
     },
     "execution_count": 12,
     "metadata": {},
     "output_type": "execute_result"
    }
   ],
   "source": [
    "f.shape[0]"
   ]
  },
  {
   "cell_type": "markdown",
   "metadata": {},
   "source": [
    "That's a big number, from here on we'll try to better understand its distribution"
   ]
  },
  {
   "cell_type": "markdown",
   "metadata": {},
   "source": [
    "### Overall stops per minute\n",
    "First time that I play with this kind of timeseries with pandas, so I'll try a few different ways (including the deprecated seaborn tsplot). Not gonna try to explain how these methods compare... I'm keeping the diversity mostly for educational purposes. "
   ]
  },
  {
   "cell_type": "code",
   "execution_count": 13,
   "metadata": {},
   "outputs": [
    {
     "data": {
      "image/png": "[encoded data removed]",
      "text/plain": [
       "<matplotlib.figure.Figure at 0x27fdca0f470>"
      ]
     },
     "metadata": {},
     "output_type": "display_data"
    }
   ],
   "source": [
    "f_1T = f.set_index(['arrival_time']).resample('1T')\n",
    "f_1T.size().plot()\n",
    "sns.despine()"
   ]
  },
  {
   "cell_type": "code",
   "execution_count": 14,
   "metadata": {},
   "outputs": [
    {
     "data": {
      "text/html": [
       "<div>\n",
       "<style scoped>\n",
       "    .dataframe tbody tr th:only-of-type {\n",
       "        vertical-align: middle;\n",
       "    }\n",
       "\n",
       "    .dataframe tbody tr th {\n",
       "        vertical-align: top;\n",
       "    }\n",
       "\n",
       "    .dataframe thead th {\n",
       "        text-align: right;\n",
       "    }\n",
       "</style>\n",
       "<table border=\"1\" class=\"dataframe\">\n",
       "  <thead>\n",
       "    <tr style=\"text-align: right;\">\n",
       "      <th></th>\n",
       "      <th>arrival_time</th>\n",
       "      <th>0</th>\n",
       "    </tr>\n",
       "  </thead>\n",
       "  <tbody>\n",
       "    <tr>\n",
       "      <th>0</th>\n",
       "      <td>00:00:00</td>\n",
       "      <td>213</td>\n",
       "    </tr>\n",
       "    <tr>\n",
       "      <th>1</th>\n",
       "      <td>00:01:00</td>\n",
       "      <td>111</td>\n",
       "    </tr>\n",
       "    <tr>\n",
       "      <th>2</th>\n",
       "      <td>00:02:00</td>\n",
       "      <td>153</td>\n",
       "    </tr>\n",
       "    <tr>\n",
       "      <th>3</th>\n",
       "      <td>00:03:00</td>\n",
       "      <td>162</td>\n",
       "    </tr>\n",
       "    <tr>\n",
       "      <th>4</th>\n",
       "      <td>00:04:00</td>\n",
       "      <td>149</td>\n",
       "    </tr>\n",
       "  </tbody>\n",
       "</table>\n",
       "</div>"
      ],
      "text/plain": [
       "  arrival_time    0\n",
       "0     00:00:00  213\n",
       "1     00:01:00  111\n",
       "2     00:02:00  153\n",
       "3     00:03:00  162\n",
       "4     00:04:00  149"
      ]
     },
     "execution_count": 14,
     "metadata": {},
     "output_type": "execute_result"
    }
   ],
   "source": [
    "f_1T.size().reset_index().head()"
   ]
  },
  {
   "cell_type": "code",
   "execution_count": 15,
   "metadata": {},
   "outputs": [
    {
     "data": {
      "text/html": [
       "<div>\n",
       "<style scoped>\n",
       "    .dataframe tbody tr th:only-of-type {\n",
       "        vertical-align: middle;\n",
       "    }\n",
       "\n",
       "    .dataframe tbody tr th {\n",
       "        vertical-align: top;\n",
       "    }\n",
       "\n",
       "    .dataframe thead th {\n",
       "        text-align: right;\n",
       "    }\n",
       "</style>\n",
       "<table border=\"1\" class=\"dataframe\">\n",
       "  <thead>\n",
       "    <tr style=\"text-align: right;\">\n",
       "      <th></th>\n",
       "      <th>size</th>\n",
       "      <th>smooth</th>\n",
       "      <th>ewm</th>\n",
       "    </tr>\n",
       "    <tr>\n",
       "      <th>arrival_time</th>\n",
       "      <th></th>\n",
       "      <th></th>\n",
       "      <th></th>\n",
       "    </tr>\n",
       "  </thead>\n",
       "  <tbody>\n",
       "    <tr>\n",
       "      <th>00:00:00</th>\n",
       "      <td>213</td>\n",
       "      <td>143.694404</td>\n",
       "      <td>213.000000</td>\n",
       "    </tr>\n",
       "    <tr>\n",
       "      <th>00:01:00</th>\n",
       "      <td>111</td>\n",
       "      <td>148.802650</td>\n",
       "      <td>156.900000</td>\n",
       "    </tr>\n",
       "    <tr>\n",
       "      <th>00:02:00</th>\n",
       "      <td>153</td>\n",
       "      <td>153.988655</td>\n",
       "      <td>155.332226</td>\n",
       "    </tr>\n",
       "    <tr>\n",
       "      <th>00:03:00</th>\n",
       "      <td>162</td>\n",
       "      <td>159.222068</td>\n",
       "      <td>157.528960</td>\n",
       "    </tr>\n",
       "    <tr>\n",
       "      <th>00:04:00</th>\n",
       "      <td>149</td>\n",
       "      <td>164.487760</td>\n",
       "      <td>155.080528</td>\n",
       "    </tr>\n",
       "  </tbody>\n",
       "</table>\n",
       "</div>"
      ],
      "text/plain": [
       "              size      smooth         ewm\n",
       "arrival_time                              \n",
       "00:00:00       213  143.694404  213.000000\n",
       "00:01:00       111  148.802650  156.900000\n",
       "00:02:00       153  153.988655  155.332226\n",
       "00:03:00       162  159.222068  157.528960\n",
       "00:04:00       149  164.487760  155.080528"
      ]
     },
     "execution_count": 15,
     "metadata": {},
     "output_type": "execute_result"
    }
   ],
   "source": [
    "from statsmodels.nonparametric.smoothers_lowess import lowess\n",
    "counts = f_1T.size().reset_index().rename(columns={0: 'size'})\n",
    "smooth_counts = lowess(counts.iloc[:,1], counts.arrival_time, frac=0.01) \n",
    "counts['smooth'] = smooth_counts[:, 1]\n",
    "counts = counts.set_index('arrival_time')\n",
    "counts['ewm'] = counts['size'].ewm(span=10).mean()\n",
    "counts.head()"
   ]
  },
  {
   "cell_type": "code",
   "execution_count": 16,
   "metadata": {},
   "outputs": [
    {
     "data": {
      "image/png": "[encoded data removed]",
      "text/plain": [
       "<matplotlib.figure.Figure at 0x27fdb8f9a58>"
      ]
     },
     "metadata": {},
     "output_type": "display_data"
    }
   ],
   "source": [
    "counts[['size', 'smooth']].plot()\n",
    "sns.despine()"
   ]
  },
  {
   "cell_type": "code",
   "execution_count": 17,
   "metadata": {},
   "outputs": [
    {
     "data": {
      "image/png": "[encoded data removed]",
      "text/plain": [
       "<matplotlib.figure.Figure at 0x27fe2491dd8>"
      ]
     },
     "metadata": {},
     "output_type": "display_data"
    }
   ],
   "source": [
    "counts[['size', 'ewm']].plot()\n",
    "sns.despine()"
   ]
  },
  {
   "cell_type": "markdown",
   "metadata": {},
   "source": [
    "Now build a DF to use with Seaborn tsplot (even though its deprecated)"
   ]
  },
  {
   "cell_type": "code",
   "execution_count": 18,
   "metadata": {},
   "outputs": [
    {
     "data": {
      "text/html": [
       "<div>\n",
       "<style scoped>\n",
       "    .dataframe tbody tr th:only-of-type {\n",
       "        vertical-align: middle;\n",
       "    }\n",
       "\n",
       "    .dataframe tbody tr th {\n",
       "        vertical-align: top;\n",
       "    }\n",
       "\n",
       "    .dataframe thead th {\n",
       "        text-align: right;\n",
       "    }\n",
       "</style>\n",
       "<table border=\"1\" class=\"dataframe\">\n",
       "  <thead>\n",
       "    <tr style=\"text-align: right;\">\n",
       "      <th>minute</th>\n",
       "      <th>0</th>\n",
       "      <th>1</th>\n",
       "      <th>2</th>\n",
       "      <th>3</th>\n",
       "      <th>4</th>\n",
       "      <th>5</th>\n",
       "      <th>6</th>\n",
       "      <th>7</th>\n",
       "      <th>8</th>\n",
       "      <th>9</th>\n",
       "    </tr>\n",
       "    <tr>\n",
       "      <th>arrival_time</th>\n",
       "      <th></th>\n",
       "      <th></th>\n",
       "      <th></th>\n",
       "      <th></th>\n",
       "      <th></th>\n",
       "      <th></th>\n",
       "      <th></th>\n",
       "      <th></th>\n",
       "      <th></th>\n",
       "      <th></th>\n",
       "    </tr>\n",
       "  </thead>\n",
       "  <tbody>\n",
       "    <tr>\n",
       "      <th>07:00:00</th>\n",
       "      <td>4179.0</td>\n",
       "      <td>3619.0</td>\n",
       "      <td>3693.0</td>\n",
       "      <td>3646.0</td>\n",
       "      <td>3524.0</td>\n",
       "      <td>3841.0</td>\n",
       "      <td>3608.0</td>\n",
       "      <td>3643.0</td>\n",
       "      <td>3590.0</td>\n",
       "      <td>3509.0</td>\n",
       "    </tr>\n",
       "    <tr>\n",
       "      <th>07:10:00</th>\n",
       "      <td>3956.0</td>\n",
       "      <td>3669.0</td>\n",
       "      <td>3735.0</td>\n",
       "      <td>3680.0</td>\n",
       "      <td>3507.0</td>\n",
       "      <td>4087.0</td>\n",
       "      <td>3751.0</td>\n",
       "      <td>3785.0</td>\n",
       "      <td>3733.0</td>\n",
       "      <td>3636.0</td>\n",
       "    </tr>\n",
       "    <tr>\n",
       "      <th>07:20:00</th>\n",
       "      <td>4169.0</td>\n",
       "      <td>3858.0</td>\n",
       "      <td>3768.0</td>\n",
       "      <td>3849.0</td>\n",
       "      <td>3747.0</td>\n",
       "      <td>3991.0</td>\n",
       "      <td>3844.0</td>\n",
       "      <td>3761.0</td>\n",
       "      <td>3705.0</td>\n",
       "      <td>3572.0</td>\n",
       "    </tr>\n",
       "    <tr>\n",
       "      <th>07:30:00</th>\n",
       "      <td>4576.0</td>\n",
       "      <td>4026.0</td>\n",
       "      <td>4125.0</td>\n",
       "      <td>4033.0</td>\n",
       "      <td>3891.0</td>\n",
       "      <td>4133.0</td>\n",
       "      <td>4013.0</td>\n",
       "      <td>3947.0</td>\n",
       "      <td>3770.0</td>\n",
       "      <td>3776.0</td>\n",
       "    </tr>\n",
       "    <tr>\n",
       "      <th>07:40:00</th>\n",
       "      <td>4216.0</td>\n",
       "      <td>3880.0</td>\n",
       "      <td>3896.0</td>\n",
       "      <td>3807.0</td>\n",
       "      <td>3683.0</td>\n",
       "      <td>4132.0</td>\n",
       "      <td>3879.0</td>\n",
       "      <td>3836.0</td>\n",
       "      <td>3822.0</td>\n",
       "      <td>3686.0</td>\n",
       "    </tr>\n",
       "    <tr>\n",
       "      <th>07:50:00</th>\n",
       "      <td>4119.0</td>\n",
       "      <td>3768.0</td>\n",
       "      <td>3740.0</td>\n",
       "      <td>3645.0</td>\n",
       "      <td>3493.0</td>\n",
       "      <td>3727.0</td>\n",
       "      <td>3557.0</td>\n",
       "      <td>3414.0</td>\n",
       "      <td>3378.0</td>\n",
       "      <td>3363.0</td>\n",
       "    </tr>\n",
       "    <tr>\n",
       "      <th>08:00:00</th>\n",
       "      <td>4380.0</td>\n",
       "      <td>3804.0</td>\n",
       "      <td>3840.0</td>\n",
       "      <td>3845.0</td>\n",
       "      <td>3619.0</td>\n",
       "      <td>3745.0</td>\n",
       "      <td>3719.0</td>\n",
       "      <td>3660.0</td>\n",
       "      <td>3538.0</td>\n",
       "      <td>3448.0</td>\n",
       "    </tr>\n",
       "    <tr>\n",
       "      <th>08:10:00</th>\n",
       "      <td>3783.0</td>\n",
       "      <td>3567.0</td>\n",
       "      <td>3496.0</td>\n",
       "      <td>3527.0</td>\n",
       "      <td>3346.0</td>\n",
       "      <td>3734.0</td>\n",
       "      <td>3470.0</td>\n",
       "      <td>3431.0</td>\n",
       "      <td>3378.0</td>\n",
       "      <td>3287.0</td>\n",
       "    </tr>\n",
       "    <tr>\n",
       "      <th>08:20:00</th>\n",
       "      <td>3685.0</td>\n",
       "      <td>3477.0</td>\n",
       "      <td>3385.0</td>\n",
       "      <td>3361.0</td>\n",
       "      <td>3317.0</td>\n",
       "      <td>3419.0</td>\n",
       "      <td>3243.0</td>\n",
       "      <td>3151.0</td>\n",
       "      <td>3157.0</td>\n",
       "      <td>2978.0</td>\n",
       "    </tr>\n",
       "    <tr>\n",
       "      <th>08:30:00</th>\n",
       "      <td>3852.0</td>\n",
       "      <td>3423.0</td>\n",
       "      <td>3466.0</td>\n",
       "      <td>3423.0</td>\n",
       "      <td>3287.0</td>\n",
       "      <td>3417.0</td>\n",
       "      <td>3326.0</td>\n",
       "      <td>3287.0</td>\n",
       "      <td>3125.0</td>\n",
       "      <td>3174.0</td>\n",
       "    </tr>\n",
       "    <tr>\n",
       "      <th>08:40:00</th>\n",
       "      <td>3559.0</td>\n",
       "      <td>3197.0</td>\n",
       "      <td>3211.0</td>\n",
       "      <td>3141.0</td>\n",
       "      <td>3068.0</td>\n",
       "      <td>3461.0</td>\n",
       "      <td>3215.0</td>\n",
       "      <td>3167.0</td>\n",
       "      <td>3238.0</td>\n",
       "      <td>3086.0</td>\n",
       "    </tr>\n",
       "    <tr>\n",
       "      <th>08:50:00</th>\n",
       "      <td>3378.0</td>\n",
       "      <td>3180.0</td>\n",
       "      <td>3214.0</td>\n",
       "      <td>3106.0</td>\n",
       "      <td>3057.0</td>\n",
       "      <td>3094.0</td>\n",
       "      <td>3007.0</td>\n",
       "      <td>2860.0</td>\n",
       "      <td>2915.0</td>\n",
       "      <td>2788.0</td>\n",
       "    </tr>\n",
       "  </tbody>\n",
       "</table>\n",
       "</div>"
      ],
      "text/plain": [
       "minute             0       1       2       3       4       5       6       7  \\\n",
       "arrival_time                                                                   \n",
       "07:00:00      4179.0  3619.0  3693.0  3646.0  3524.0  3841.0  3608.0  3643.0   \n",
       "07:10:00      3956.0  3669.0  3735.0  3680.0  3507.0  4087.0  3751.0  3785.0   \n",
       "07:20:00      4169.0  3858.0  3768.0  3849.0  3747.0  3991.0  3844.0  3761.0   \n",
       "07:30:00      4576.0  4026.0  4125.0  4033.0  3891.0  4133.0  4013.0  3947.0   \n",
       "07:40:00      4216.0  3880.0  3896.0  3807.0  3683.0  4132.0  3879.0  3836.0   \n",
       "07:50:00      4119.0  3768.0  3740.0  3645.0  3493.0  3727.0  3557.0  3414.0   \n",
       "08:00:00      4380.0  3804.0  3840.0  3845.0  3619.0  3745.0  3719.0  3660.0   \n",
       "08:10:00      3783.0  3567.0  3496.0  3527.0  3346.0  3734.0  3470.0  3431.0   \n",
       "08:20:00      3685.0  3477.0  3385.0  3361.0  3317.0  3419.0  3243.0  3151.0   \n",
       "08:30:00      3852.0  3423.0  3466.0  3423.0  3287.0  3417.0  3326.0  3287.0   \n",
       "08:40:00      3559.0  3197.0  3211.0  3141.0  3068.0  3461.0  3215.0  3167.0   \n",
       "08:50:00      3378.0  3180.0  3214.0  3106.0  3057.0  3094.0  3007.0  2860.0   \n",
       "\n",
       "minute             8       9  \n",
       "arrival_time                  \n",
       "07:00:00      3590.0  3509.0  \n",
       "07:10:00      3733.0  3636.0  \n",
       "07:20:00      3705.0  3572.0  \n",
       "07:30:00      3770.0  3776.0  \n",
       "07:40:00      3822.0  3686.0  \n",
       "07:50:00      3378.0  3363.0  \n",
       "08:00:00      3538.0  3448.0  \n",
       "08:10:00      3378.0  3287.0  \n",
       "08:20:00      3157.0  2978.0  \n",
       "08:30:00      3125.0  3174.0  \n",
       "08:40:00      3238.0  3086.0  \n",
       "08:50:00      2915.0  2788.0  "
      ]
     },
     "execution_count": 18,
     "metadata": {},
     "output_type": "execute_result"
    }
   ],
   "source": [
    "# one minute counts\n",
    "c10 = f_1T.size().reset_index().rename(columns={0: 'size'})\n",
    "# extract minute smalll digit to a new column\n",
    "c10 = c10.assign(minute=c10.arrival_time.dt.seconds//60%10)\n",
    "# group the one minute counts into a two level MultiIndex by the 1 minute counts\n",
    "# and a new resample by 10 minutes. the minute\n",
    "c10 = c10.set_index('arrival_time').groupby([pd.Grouper(freq='10T'), 'minute']).mean()\n",
    "# lets look at it in a meaningful way, we can see a peak at the 0  and 5\n",
    "# (sparkline could be a good viz for this)\n",
    "c10.reset_index().pivot('arrival_time', 'minute', 'size').iloc[6*7:6*9]"
   ]
  },
  {
   "cell_type": "code",
   "execution_count": 19,
   "metadata": {},
   "outputs": [
    {
     "name": "stderr",
     "output_type": "stream",
     "text": [
      "C:\\Users\\dbare\\Anaconda3\\lib\\site-packages\\seaborn\\timeseries.py:183: UserWarning: The tsplot function is deprecated and will be removed or replaced (in a substantially altered version) in a future release.\n",
      "  warnings.warn(msg, UserWarning)\n"
     ]
    },
    {
     "data": {
      "image/png": "[encoded data removed]",
      "text/plain": [
       "<matplotlib.figure.Figure at 0x27fe23c44e0>"
      ]
     },
     "metadata": {},
     "output_type": "display_data"
    }
   ],
   "source": [
    "sns.tsplot(data=c10.reset_index(), time='arrival_time', unit='minute', value='size',\n",
    "           ci='sd')\n",
    "sns.despine()"
   ]
  },
  {
   "cell_type": "markdown",
   "metadata": {},
   "source": [
    "The lower opacity color represents the standard deviation.\n",
    "\n",
    "That's kind of simple to do on our own, so lets do this and some more."
   ]
  },
  {
   "cell_type": "code",
   "execution_count": 20,
   "metadata": {},
   "outputs": [
    {
     "data": {
      "text/html": [
       "<div>\n",
       "<style scoped>\n",
       "    .dataframe tbody tr th:only-of-type {\n",
       "        vertical-align: middle;\n",
       "    }\n",
       "\n",
       "    .dataframe tbody tr th {\n",
       "        vertical-align: top;\n",
       "    }\n",
       "\n",
       "    .dataframe thead th {\n",
       "        text-align: right;\n",
       "    }\n",
       "</style>\n",
       "<table border=\"1\" class=\"dataframe\">\n",
       "  <thead>\n",
       "    <tr style=\"text-align: right;\">\n",
       "      <th></th>\n",
       "      <th>max</th>\n",
       "      <th>min</th>\n",
       "      <th>mean</th>\n",
       "      <th>std</th>\n",
       "      <th>ci_l</th>\n",
       "      <th>ci_h</th>\n",
       "    </tr>\n",
       "    <tr>\n",
       "      <th>arrival_time</th>\n",
       "      <th></th>\n",
       "      <th></th>\n",
       "      <th></th>\n",
       "      <th></th>\n",
       "      <th></th>\n",
       "      <th></th>\n",
       "    </tr>\n",
       "  </thead>\n",
       "  <tbody>\n",
       "    <tr>\n",
       "      <th>00:00:00</th>\n",
       "      <td>213</td>\n",
       "      <td>111</td>\n",
       "      <td>167.2</td>\n",
       "      <td>27.173517</td>\n",
       "      <td>140.026483</td>\n",
       "      <td>194.373517</td>\n",
       "    </tr>\n",
       "    <tr>\n",
       "      <th>00:10:00</th>\n",
       "      <td>239</td>\n",
       "      <td>206</td>\n",
       "      <td>219.8</td>\n",
       "      <td>9.577752</td>\n",
       "      <td>210.222248</td>\n",
       "      <td>229.377752</td>\n",
       "    </tr>\n",
       "    <tr>\n",
       "      <th>00:20:00</th>\n",
       "      <td>256</td>\n",
       "      <td>206</td>\n",
       "      <td>224.8</td>\n",
       "      <td>14.312388</td>\n",
       "      <td>210.487612</td>\n",
       "      <td>239.112388</td>\n",
       "    </tr>\n",
       "    <tr>\n",
       "      <th>00:30:00</th>\n",
       "      <td>307</td>\n",
       "      <td>237</td>\n",
       "      <td>262.3</td>\n",
       "      <td>19.916771</td>\n",
       "      <td>242.383229</td>\n",
       "      <td>282.216771</td>\n",
       "    </tr>\n",
       "    <tr>\n",
       "      <th>00:40:00</th>\n",
       "      <td>260</td>\n",
       "      <td>196</td>\n",
       "      <td>216.2</td>\n",
       "      <td>19.060139</td>\n",
       "      <td>197.139861</td>\n",
       "      <td>235.260139</td>\n",
       "    </tr>\n",
       "  </tbody>\n",
       "</table>\n",
       "</div>"
      ],
      "text/plain": [
       "              max  min   mean        std        ci_l        ci_h\n",
       "arrival_time                                                    \n",
       "00:00:00      213  111  167.2  27.173517  140.026483  194.373517\n",
       "00:10:00      239  206  219.8   9.577752  210.222248  229.377752\n",
       "00:20:00      256  206  224.8  14.312388  210.487612  239.112388\n",
       "00:30:00      307  237  262.3  19.916771  242.383229  282.216771\n",
       "00:40:00      260  196  216.2  19.060139  197.139861  235.260139"
      ]
     },
     "execution_count": 20,
     "metadata": {},
     "output_type": "execute_result"
    }
   ],
   "source": [
    "f10 = f_1T.size().resample('10T').apply(['max', 'min', 'mean', 'std'])\n",
    "f10['ci_l'] = f10['mean'] - f10['std']\n",
    "f10['ci_h'] = f10['mean'] + f10['std']\n",
    "f10.head()"
   ]
  },
  {
   "cell_type": "code",
   "execution_count": 21,
   "metadata": {},
   "outputs": [
    {
     "data": {
      "image/png": "[encoded data removed]",
      "text/plain": [
       "<matplotlib.figure.Figure at 0x27fe25284a8>"
      ]
     },
     "metadata": {},
     "output_type": "display_data"
    }
   ],
   "source": [
    "f10.plot()\n",
    "sns.despine()"
   ]
  },
  {
   "cell_type": "markdown",
   "metadata": {},
   "source": [
    "Again, one thing to note is the noticeable zigzags of the lines. This is due to round 10 minutes or hours have much more buses scheduled."
   ]
  },
  {
   "cell_type": "markdown",
   "metadata": {},
   "source": [
    "### Photo finish\n",
    "Let's finish with some zone slicing. Starting by getting the top zones overall\n",
    "\n",
    "Kind of a teaser for future posts, where I'll dive deeper with more slices, groupings and some dynamic dashboarding (woohoo).\n",
    "\n",
    "Start with getting the top ten zones:"
   ]
  },
  {
   "cell_type": "code",
   "execution_count": 22,
   "metadata": {
    "scrolled": true
   },
   "outputs": [
    {
     "data": {
      "text/html": [
       "<div>\n",
       "<style scoped>\n",
       "    .dataframe tbody tr th:only-of-type {\n",
       "        vertical-align: middle;\n",
       "    }\n",
       "\n",
       "    .dataframe tbody tr th {\n",
       "        vertical-align: top;\n",
       "    }\n",
       "\n",
       "    .dataframe thead th {\n",
       "        text-align: right;\n",
       "    }\n",
       "</style>\n",
       "<table border=\"1\" class=\"dataframe\">\n",
       "  <thead>\n",
       "    <tr style=\"text-align: right;\">\n",
       "      <th></th>\n",
       "      <th>zone_name</th>\n",
       "      <th>0</th>\n",
       "    </tr>\n",
       "  </thead>\n",
       "  <tbody>\n",
       "    <tr>\n",
       "      <th>0</th>\n",
       "      <td>גוש דן</td>\n",
       "      <td>855331</td>\n",
       "    </tr>\n",
       "    <tr>\n",
       "      <th>1</th>\n",
       "      <td>סובב ירושלים</td>\n",
       "      <td>439636</td>\n",
       "    </tr>\n",
       "    <tr>\n",
       "      <th>2</th>\n",
       "      <td>סובב חיפה</td>\n",
       "      <td>325621</td>\n",
       "    </tr>\n",
       "    <tr>\n",
       "      <th>3</th>\n",
       "      <td>נצרת</td>\n",
       "      <td>134186</td>\n",
       "    </tr>\n",
       "    <tr>\n",
       "      <th>4</th>\n",
       "      <td>שרון</td>\n",
       "      <td>111932</td>\n",
       "    </tr>\n",
       "    <tr>\n",
       "      <th>5</th>\n",
       "      <td>באר שבע</td>\n",
       "      <td>98987</td>\n",
       "    </tr>\n",
       "    <tr>\n",
       "      <th>6</th>\n",
       "      <td>נתניה</td>\n",
       "      <td>86689</td>\n",
       "    </tr>\n",
       "    <tr>\n",
       "      <th>7</th>\n",
       "      <td>אשדוד</td>\n",
       "      <td>84993</td>\n",
       "    </tr>\n",
       "    <tr>\n",
       "      <th>8</th>\n",
       "      <td>חבל מודיעין</td>\n",
       "      <td>82216</td>\n",
       "    </tr>\n",
       "    <tr>\n",
       "      <th>9</th>\n",
       "      <td>ראש העין שוהם</td>\n",
       "      <td>76297</td>\n",
       "    </tr>\n",
       "  </tbody>\n",
       "</table>\n",
       "</div>"
      ],
      "text/plain": [
       "       zone_name       0\n",
       "0         גוש דן  855331\n",
       "1   סובב ירושלים  439636\n",
       "2      סובב חיפה  325621\n",
       "3           נצרת  134186\n",
       "4           שרון  111932\n",
       "5        באר שבע   98987\n",
       "6          נתניה   86689\n",
       "7          אשדוד   84993\n",
       "8    חבל מודיעין   82216\n",
       "9  ראש העין שוהם   76297"
      ]
     },
     "execution_count": 22,
     "metadata": {},
     "output_type": "execute_result"
    }
   ],
   "source": [
    "top_zones = f.groupby('zone_name').size().sort_values(ascending=False).head(10)\n",
    "top_zones.reset_index()"
   ]
  },
  {
   "cell_type": "code",
   "execution_count": 23,
   "metadata": {},
   "outputs": [],
   "source": [
    "zone10 = (f[f.zone_name.isin(top_zones.index)].set_index('arrival_time')\n",
    "          .groupby([pd.Grouper(freq='1T'), 'zone_name'])\n",
    "          .size())\n",
    "zones10 = zone10.reset_index().rename(columns={0: 'size'})\n",
    "#reverse names so they will show nicely in plot\n",
    "zones10 = zones10.assign(zone_name=lambda x: (x['zone_name'].str[::-1]))\n",
    "zones10 = zones10.pivot('arrival_time', 'zone_name', 'size')"
   ]
  },
  {
   "cell_type": "code",
   "execution_count": 24,
   "metadata": {},
   "outputs": [
    {
     "data": {
      "image/png": "[encoded data removed]",
      "text/plain": [
       "<matplotlib.figure.Figure at 0x27fe2e67d68>"
      ]
     },
     "metadata": {},
     "output_type": "display_data"
    }
   ],
   "source": [
    "fig, ax = plt.subplots()\n",
    "zones10.plot(figsize=(15,10), ax=ax)\n",
    "handles, labels = ax.get_legend_handles_labels()\n",
    "# sort both labels and handles by their rank (and do so in a very weird way :))\n",
    "top_zones_rank = top_zones.reset_index()\n",
    "labels, handles = zip(*sorted(zip(labels, handles), \n",
    "                              key=lambda t: top_zones_rank[top_zones_rank.zone_name==t[0][::-1]].index.tolist()[0]))\n",
    "ax.legend(handles, labels, title=\"zone_name\")\n",
    "\n",
    "sns.despine()"
   ]
  },
  {
   "cell_type": "markdown",
   "metadata": {},
   "source": [
    "Not very surprising, the Tel Aviv dragon lays well above the rest."
   ]
  },
  {
   "cell_type": "markdown",
   "metadata": {},
   "source": [
    "## On the next episodes\n",
    "OK, enough for now, on the next posts: \n",
    "\n",
    "* TODO: Turn it all to day-of-week means\n",
    "* TODO: Slices on routes and stops\n",
    "* TODO: calculate bus concurrency (How many buses are on the road right now!)\n",
    "* TODO: some dynamic bokeh web applet to use this as a tool\n",
    "* TODO: Geo visualizations \n",
    "* TODO: Some graph theory magic ([example](http://kuanbutts.com/2017/12/13/betweenness-centrality-peartree/))"
   ]
  },
  {
   "cell_type": "code",
   "execution_count": null,
   "metadata": {
    "collapsed": true
   },
   "outputs": [],
   "source": []
  },
  {
   "cell_type": "code",
   "execution_count": null,
   "metadata": {
    "collapsed": true
   },
   "outputs": [],
   "source": []
  },
  {
   "cell_type": "code",
   "execution_count": null,
   "metadata": {
    "collapsed": true
   },
   "outputs": [],
   "source": []
  },
  {
   "cell_type": "code",
   "execution_count": null,
   "metadata": {
    "collapsed": true
   },
   "outputs": [],
   "source": []
  },
  {
   "cell_type": "code",
   "execution_count": null,
   "metadata": {
    "collapsed": true
   },
   "outputs": [],
   "source": []
  },
  {
   "cell_type": "code",
   "execution_count": null,
   "metadata": {
    "collapsed": true
   },
   "outputs": [],
   "source": []
  },
  {
   "cell_type": "code",
   "execution_count": null,
   "metadata": {
    "collapsed": true
   },
   "outputs": [],
   "source": []
  },
  {
   "cell_type": "code",
   "execution_count": null,
   "metadata": {
    "collapsed": true
   },
   "outputs": [],
   "source": []
  }
 ],
 "metadata": {
  "kernelspec": {
   "display_name": "Python 3",
   "language": "python",
   "name": "python3"
  },
  "language_info": {
   "codemirror_mode": {
    "name": "ipython",
    "version": 3
   },
   "file_extension": ".py",
   "mimetype": "text/x-python",
   "name": "python",
   "nbconvert_exporter": "python",
   "pygments_lexer": "ipython3",
   "version": "3.6.3"
  }
 },
 "nbformat": 4,
 "nbformat_minor": 2
}
