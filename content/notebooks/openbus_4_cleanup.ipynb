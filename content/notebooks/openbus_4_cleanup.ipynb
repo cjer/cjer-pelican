{
 "cells": [
  {
   "cell_type": "markdown",
   "metadata": {},
   "source": [
    "Once more, I'm trying to show a play-by-play analysis of the Israeli GTFS, with [hasadna/open-bus](https://github.com/hasadna/open-bus) interests in mind.\n",
    "\n",
    "This post is more of a data cleanup diary log. While working on some stuff I found issues with the dataset I was working with, I thought it would be good to document this, and show the process of finding these issues, and how some simple analysis (AKA debugging) helped finding the source of these symptoms and a cure.\n",
    "\n",
    "The agenda:\n",
    "1. [Get up-to-date GTFS files from the MOT FTP server](#Get-the-data)\n",
    "2. [Merge and tidy](#Tidy-it-up)\n",
    "3. [Cleanup Diary](#Cleanup-Diary)\n"
   ]
  },
  {
   "cell_type": "code",
   "execution_count": 3,
   "metadata": {},
   "outputs": [],
   "source": [
    "import pandas as pd\n",
    "import numpy as np\n",
    "import matplotlib.pyplot as plt\n",
    "import datetime\n",
    "\n",
    "%matplotlib inline"
   ]
  },
  {
   "cell_type": "markdown",
   "metadata": {},
   "source": [
    "## Get the data\n",
    "We get the data straight from MOT's ftp. Just so I don't repeat the last post, this went out to a separate module."
   ]
  },
  {
   "cell_type": "code",
   "execution_count": 4,
   "metadata": {},
   "outputs": [
    {
     "data": {
      "text/plain": [
       "'221 Goodbye.'"
      ]
     },
     "execution_count": 4,
     "metadata": {},
     "output_type": "execute_result"
    }
   ],
   "source": [
    "from gtfs_utils import *\n",
    "\n",
    "conn = ftp_connect()\n",
    "ftp_dir = get_ftp_dir(conn)\n",
    "UPTODATE = 90 #days\n",
    "our_uptodateness = get_uptodateness(ftp_dir)\n",
    "\n",
    "if our_uptodateness > UPTODATE:\n",
    "    get_ftp_file(conn)\n",
    "    get_ftp_file(conn, file_name = 'Tariff.zip', local_zip_path = 'data/sample/tariff.zip' )\n",
    "\n",
    "conn.quit()"
   ]
  },
  {
   "cell_type": "markdown",
   "metadata": {},
   "source": [
    "We load MOT's tarrif.txt file, which will give us zone names and other local info.\n",
    "Found out it's the file is even more fd-up than I realized, so I add the southern zones manualy"
   ]
  },
  {
   "cell_type": "code",
   "execution_count": 5,
   "metadata": {},
   "outputs": [],
   "source": [
    "tariff_df = extract_tariff_df(local_zip_path = 'data/sample/tariff.zip')\n",
    "south = [\n",
    "    {\n",
    "        'zone_name': 'מצפה רמון',\n",
    "        'zone_id': '903'\n",
    "    },\n",
    "    {\n",
    "        'zone_name': 'ערבה',\n",
    "        'zone_id': '902'\n",
    "    },\n",
    "    {\n",
    "        'zone_name': 'אילת',\n",
    "        'zone_id': '901'\n",
    "    },]\n",
    "south = pd.DataFrame(south)\n",
    "tariff_df = tariff_df.append(south)\n"
   ]
  },
  {
   "cell_type": "markdown",
   "metadata": {},
   "source": [
    "## Tidy it up\n",
    "Again I'm using [partridge](https://github.com/remix/partridge/tree/master/partridge) for filtering on dates, and then some tidying up and transformations."
   ]
  },
  {
   "cell_type": "code",
   "execution_count": 6,
   "metadata": {},
   "outputs": [],
   "source": [
    "LOCAL_ZIP_PATH = 'data/sample/gtfs.zip' \n",
    "\n",
    "import partridge as ptg\n",
    "\n",
    "service_ids_by_date = ptg.read_service_ids_by_date(LOCAL_ZIP_PATH)\n",
    "service_ids = service_ids_by_date[datetime.date(2017, 12, 21)]\n",
    "\n",
    "feed = ptg.feed(LOCAL_ZIP_PATH, view={\n",
    "    'trips.txt': {\n",
    "        'service_id': service_ids,\n",
    "    },\n",
    "})"
   ]
  },
  {
   "cell_type": "code",
   "execution_count": 7,
   "metadata": {},
   "outputs": [],
   "source": [
    "def to_timedelta(df):\n",
    "    '''\n",
    "    Turn time columns into timedelta dtype\n",
    "    '''\n",
    "    cols = ['arrival_time', 'departure_time']\n",
    "    numeric = df[cols].apply(pd.to_timedelta, unit='s')\n",
    "    df = df.copy()\n",
    "    df[cols] = numeric\n",
    "    return df"
   ]
  },
  {
   "cell_type": "code",
   "execution_count": 8,
   "metadata": {},
   "outputs": [],
   "source": [
    "s = feed.stops\n",
    "r = feed.routes\n",
    "t = (feed.trips\n",
    "     .assign(route_id=lambda x: pd.Categorical(x['route_id'])))"
   ]
  },
  {
   "cell_type": "code",
   "execution_count": 9,
   "metadata": {
    "scrolled": true
   },
   "outputs": [
    {
     "data": {
      "text/html": [
       "<div>\n",
       "<style scoped>\n",
       "    .dataframe tbody tr th:only-of-type {\n",
       "        vertical-align: middle;\n",
       "    }\n",
       "\n",
       "    .dataframe tbody tr th {\n",
       "        vertical-align: top;\n",
       "    }\n",
       "\n",
       "    .dataframe thead th {\n",
       "        text-align: right;\n",
       "    }\n",
       "</style>\n",
       "<table border=\"1\" class=\"dataframe\">\n",
       "  <thead>\n",
       "    <tr style=\"text-align: right;\">\n",
       "      <th></th>\n",
       "      <th>trip_id</th>\n",
       "      <th>departure_time</th>\n",
       "      <th>arrival_time</th>\n",
       "      <th>stop_id</th>\n",
       "      <th>stop_sequence</th>\n",
       "      <th>date</th>\n",
       "      <th>stop_name</th>\n",
       "      <th>stop_lat</th>\n",
       "      <th>stop_lon</th>\n",
       "      <th>zone_id</th>\n",
       "      <th>zone_name</th>\n",
       "      <th>route_id</th>\n",
       "      <th>direction_id</th>\n",
       "      <th>route_short_name</th>\n",
       "      <th>route_long_name</th>\n",
       "    </tr>\n",
       "  </thead>\n",
       "  <tbody>\n",
       "    <tr>\n",
       "      <th>0</th>\n",
       "      <td>28917380_191217</td>\n",
       "      <td>08:57:00</td>\n",
       "      <td>08:57:00</td>\n",
       "      <td>37312</td>\n",
       "      <td>1</td>\n",
       "      <td>2017-12-21</td>\n",
       "      <td>באר שבע מרכז</td>\n",
       "      <td>31.242886</td>\n",
       "      <td>34.798546</td>\n",
       "      <td>410</td>\n",
       "      <td>באר שבע</td>\n",
       "      <td>20950</td>\n",
       "      <td>1</td>\n",
       "      <td>NaN</td>\n",
       "      <td>באר שבע מרכז-באר שבע&lt;-&gt;תל אביב מרכז-תל אביב יפו</td>\n",
       "    </tr>\n",
       "    <tr>\n",
       "      <th>1</th>\n",
       "      <td>28917380_191217</td>\n",
       "      <td>09:04:00</td>\n",
       "      <td>09:04:00</td>\n",
       "      <td>37314</td>\n",
       "      <td>2</td>\n",
       "      <td>2017-12-21</td>\n",
       "      <td>באר שבע-צפון</td>\n",
       "      <td>31.262089</td>\n",
       "      <td>34.809287</td>\n",
       "      <td>410</td>\n",
       "      <td>באר שבע</td>\n",
       "      <td>20950</td>\n",
       "      <td>1</td>\n",
       "      <td>NaN</td>\n",
       "      <td>באר שבע מרכז-באר שבע&lt;-&gt;תל אביב מרכז-תל אביב יפו</td>\n",
       "    </tr>\n",
       "    <tr>\n",
       "      <th>2</th>\n",
       "      <td>28917380_191217</td>\n",
       "      <td>09:13:00</td>\n",
       "      <td>09:13:00</td>\n",
       "      <td>37308</td>\n",
       "      <td>3</td>\n",
       "      <td>2017-12-21</td>\n",
       "      <td>להבים רהט</td>\n",
       "      <td>31.369907</td>\n",
       "      <td>34.798040</td>\n",
       "      <td>421</td>\n",
       "      <td>רהט להבים</td>\n",
       "      <td>20950</td>\n",
       "      <td>1</td>\n",
       "      <td>NaN</td>\n",
       "      <td>באר שבע מרכז-באר שבע&lt;-&gt;תל אביב מרכז-תל אביב יפו</td>\n",
       "    </tr>\n",
       "    <tr>\n",
       "      <th>3</th>\n",
       "      <td>28917380_191217</td>\n",
       "      <td>09:29:00</td>\n",
       "      <td>09:29:00</td>\n",
       "      <td>37316</td>\n",
       "      <td>4</td>\n",
       "      <td>2017-12-21</td>\n",
       "      <td>קרית גת</td>\n",
       "      <td>31.603526</td>\n",
       "      <td>34.777955</td>\n",
       "      <td>802</td>\n",
       "      <td>קריית גת</td>\n",
       "      <td>20950</td>\n",
       "      <td>1</td>\n",
       "      <td>NaN</td>\n",
       "      <td>באר שבע מרכז-באר שבע&lt;-&gt;תל אביב מרכז-תל אביב יפו</td>\n",
       "    </tr>\n",
       "    <tr>\n",
       "      <th>4</th>\n",
       "      <td>28917380_191217</td>\n",
       "      <td>09:54:00</td>\n",
       "      <td>09:54:00</td>\n",
       "      <td>37336</td>\n",
       "      <td>5</td>\n",
       "      <td>2017-12-21</td>\n",
       "      <td>רמלה</td>\n",
       "      <td>31.928809</td>\n",
       "      <td>34.877304</td>\n",
       "      <td>210</td>\n",
       "      <td>גוש דן</td>\n",
       "      <td>20950</td>\n",
       "      <td>1</td>\n",
       "      <td>NaN</td>\n",
       "      <td>באר שבע מרכז-באר שבע&lt;-&gt;תל אביב מרכז-תל אביב יפו</td>\n",
       "    </tr>\n",
       "  </tbody>\n",
       "</table>\n",
       "</div>"
      ],
      "text/plain": [
       "           trip_id departure_time arrival_time stop_id  stop_sequence  \\\n",
       "0  28917380_191217       08:57:00     08:57:00   37312              1   \n",
       "1  28917380_191217       09:04:00     09:04:00   37314              2   \n",
       "2  28917380_191217       09:13:00     09:13:00   37308              3   \n",
       "3  28917380_191217       09:29:00     09:29:00   37316              4   \n",
       "4  28917380_191217       09:54:00     09:54:00   37336              5   \n",
       "\n",
       "         date     stop_name   stop_lat   stop_lon zone_id  zone_name route_id  \\\n",
       "0  2017-12-21  באר שבע מרכז  31.242886  34.798546     410    באר שבע    20950   \n",
       "1  2017-12-21  באר שבע-צפון  31.262089  34.809287     410    באר שבע    20950   \n",
       "2  2017-12-21     להבים רהט  31.369907  34.798040     421  רהט להבים    20950   \n",
       "3  2017-12-21       קרית גת  31.603526  34.777955     802   קריית גת    20950   \n",
       "4  2017-12-21          רמלה  31.928809  34.877304     210     גוש דן    20950   \n",
       "\n",
       "   direction_id route_short_name  \\\n",
       "0             1              NaN   \n",
       "1             1              NaN   \n",
       "2             1              NaN   \n",
       "3             1              NaN   \n",
       "4             1              NaN   \n",
       "\n",
       "                                   route_long_name  \n",
       "0  באר שבע מרכז-באר שבע<->תל אביב מרכז-תל אביב יפו  \n",
       "1  באר שבע מרכז-באר שבע<->תל אביב מרכז-תל אביב יפו  \n",
       "2  באר שבע מרכז-באר שבע<->תל אביב מרכז-תל אביב יפו  \n",
       "3  באר שבע מרכז-באר שבע<->תל אביב מרכז-תל אביב יפו  \n",
       "4  באר שבע מרכז-באר שבע<->תל אביב מרכז-תל אביב יפו  "
      ]
     },
     "execution_count": 9,
     "metadata": {},
     "output_type": "execute_result"
    }
   ],
   "source": [
    "f = (feed.stop_times[['trip_id', 'departure_time', 'arrival_time', 'stop_id', 'stop_sequence']]\n",
    "     .assign(date = datetime.date(2017, 12, 21))\n",
    "     .merge(s[['stop_id', 'stop_name', 'stop_lat', 'stop_lon', 'zone_id']], on='stop_id')\n",
    "     # Much faster joins and slices with Categorical dtypes\n",
    "     .merge(tariff_df[['zone_id', 'zone_name']], on='zone_id')\n",
    "     .assign(zone_id=lambda x: pd.Categorical(x['zone_id']))\n",
    "     .assign(zone_name=lambda x: pd.Categorical(x['zone_name']))\n",
    "     .merge(t[['trip_id', 'route_id', 'direction_id']], on='trip_id')\n",
    "     .merge(r[['route_id', 'route_short_name', 'route_long_name']], on='route_id')\n",
    "     .assign(route_id=lambda x: pd.Categorical(x['route_id']))\n",
    "     .pipe(to_timedelta)\n",
    "    )\n",
    "f.head()"
   ]
  },
  {
   "cell_type": "markdown",
   "metadata": {},
   "source": [
    "## Cleanup Diary\n",
    "The question that ignited this post was about final destinations. This is an important parameter we have to be familiar with - last stop of every trip in `trips.txt`, based on `stop_times.txt` - since our current best polling strategy sends requests for these stops only."
   ]
  },
  {
   "cell_type": "markdown",
   "metadata": {},
   "source": [
    "#### One (wrong) way\n",
    "I first tried to use a dataframe I constructed when I was trying to find simple loop lines (A --> A). I (naively) thought to myself, lets get the first and last stop for all trips.\n",
    "\n",
    "I did it like so - "
   ]
  },
  {
   "cell_type": "code",
   "execution_count": 13,
   "metadata": {},
   "outputs": [],
   "source": [
    "import pickle\n",
    "import os"
   ]
  },
  {
   "cell_type": "code",
   "execution_count": 14,
   "metadata": {},
   "outputs": [],
   "source": [
    "# using a custom groupby aggregation function, this is VERY inefficient,\n",
    "# but far more readable than doing some other magic, so I'm sticking to it for now\n",
    "\n",
    "def apply_and_pickle(f, pkl_path, apply_func):\n",
    "    if not os.path.exists(pkl_path):\n",
    "        ret_df = f.groupby('trip_id').apply(apply_func)\n",
    "        # since it's so inefficient I pickle it\n",
    "        with open(pkl_path, 'wb') as pkl_file:\n",
    "            pickle.dump(orig_dest_only, pkl_file)\n",
    "    else:\n",
    "        with open(pkl_path, 'rb') as pkl_file:\n",
    "            ret_df = pickle.load(pkl_file)\n",
    "        return ret_df\n",
    "\n",
    "def first_last(df):\n",
    "    return df.sort_values(by='stop_sequence').iloc[[0, -1]]\n",
    "\n",
    "orig_dest_only = apply_and_pickle(f, 'softloop.pkl', first_last)"
   ]
  },
  {
   "cell_type": "code",
   "execution_count": 16,
   "metadata": {},
   "outputs": [
    {
     "data": {
      "text/plain": [
       "<matplotlib.axes._subplots.AxesSubplot at 0x251ec1e0a90>"
      ]
     },
     "execution_count": 16,
     "metadata": {},
     "output_type": "execute_result"
    },
    {
     "data": {
      "image/png": "[encoded data removed]",
      "text/plain": [
       "<matplotlib.figure.Figure at 0x251ef7b00f0>"
      ]
     },
     "metadata": {},
     "output_type": "display_data"
    }
   ],
   "source": [
    "fig, ax = plt.subplots(figsize=(10,7))\n",
    "ax.set_yticks(np.arange(32)*50)\n",
    "orig_dest_only[orig_dest_only.stop_sequence!=1].groupby('stop_id').size().sort_values(ascending=False).hist(bins=147, ax=ax)"
   ]
  },
  {
   "cell_type": "markdown",
   "metadata": {},
   "source": [
    "I was all jolly and happy, until I did this:"
   ]
  },
  {
   "cell_type": "code",
   "execution_count": 17,
   "metadata": {},
   "outputs": [
    {
     "data": {
      "text/plain": [
       "92384"
      ]
     },
     "execution_count": 17,
     "metadata": {},
     "output_type": "execute_result"
    }
   ],
   "source": [
    "orig_dest_only[orig_dest_only.stop_sequence!=1].groupby('stop_id').size().sum()"
   ]
  },
  {
   "cell_type": "code",
   "execution_count": 18,
   "metadata": {},
   "outputs": [
    {
     "data": {
      "text/plain": [
       "(89777, 6)"
      ]
     },
     "execution_count": 18,
     "metadata": {},
     "output_type": "execute_result"
    }
   ],
   "source": [
    "t.shape"
   ]
  },
  {
   "cell_type": "markdown",
   "metadata": {},
   "source": [
    "No good. I've actually found more last stops than trips...\n",
    "\n",
    "This could be due to a gazillion reasons, so lets go ahead and go over them until we nail it.\n",
    "\n",
    "#### stop_sequence Mystery or \"The Bus with No Origin\"\n",
    "I used stop_sequence to find first and last stops, maybe there's an issue in the data\n",
    "\n",
    "Let's just do a simple count - "
   ]
  },
  {
   "cell_type": "code",
   "execution_count": 19,
   "metadata": {
    "scrolled": true
   },
   "outputs": [
    {
     "data": {
      "text/plain": [
       "(89105, 15)"
      ]
     },
     "execution_count": 19,
     "metadata": {},
     "output_type": "execute_result"
    }
   ],
   "source": [
    "f[f.stop_sequence==1].shape"
   ]
  },
  {
   "cell_type": "code",
   "execution_count": 20,
   "metadata": {},
   "outputs": [
    {
     "data": {
      "text/plain": [
       "(91314, 15)"
      ]
     },
     "execution_count": 20,
     "metadata": {},
     "output_type": "execute_result"
    }
   ],
   "source": [
    "f[f.stop_sequence==2].shape"
   ]
  },
  {
   "cell_type": "markdown",
   "metadata": {},
   "source": [
    "There's less first stop than trips, but more 2nd stops than trips. Ok this is crazy, and certainly needs to be looked at in the future, but lets just leave it and use some other field for this task.\n",
    "\n",
    "TODO: dig into `stop_sequence` and talk to MOT about this\n"
   ]
  },
  {
   "cell_type": "markdown",
   "metadata": {},
   "source": [
    "#### Better yet, or \"Timing is Everything\"\n",
    "Lets use the `arrival_time` field instead, which should be cleaner. I'll skip the inefficient method I used before with the custom groupby aggregationm, and go for some neat trick using the mighty `transform` method."
   ]
  },
  {
   "cell_type": "code",
   "execution_count": 22,
   "metadata": {},
   "outputs": [
    {
     "data": {
      "text/html": [
       "<div>\n",
       "<style scoped>\n",
       "    .dataframe tbody tr th:only-of-type {\n",
       "        vertical-align: middle;\n",
       "    }\n",
       "\n",
       "    .dataframe tbody tr th {\n",
       "        vertical-align: top;\n",
       "    }\n",
       "\n",
       "    .dataframe thead th {\n",
       "        text-align: right;\n",
       "    }\n",
       "</style>\n",
       "<table border=\"1\" class=\"dataframe\">\n",
       "  <thead>\n",
       "    <tr style=\"text-align: right;\">\n",
       "      <th></th>\n",
       "      <th>trip_id</th>\n",
       "      <th>departure_time</th>\n",
       "      <th>arrival_time</th>\n",
       "      <th>stop_id</th>\n",
       "      <th>stop_sequence</th>\n",
       "      <th>date</th>\n",
       "      <th>stop_name</th>\n",
       "      <th>stop_lat</th>\n",
       "      <th>stop_lon</th>\n",
       "      <th>zone_id</th>\n",
       "      <th>zone_name</th>\n",
       "      <th>route_id</th>\n",
       "      <th>direction_id</th>\n",
       "      <th>route_short_name</th>\n",
       "      <th>route_long_name</th>\n",
       "    </tr>\n",
       "  </thead>\n",
       "  <tbody>\n",
       "    <tr>\n",
       "      <th>3226900</th>\n",
       "      <td>10096398_171217</td>\n",
       "      <td>0 days 22:05:22</td>\n",
       "      <td>0 days 22:05:22</td>\n",
       "      <td>34503</td>\n",
       "      <td>37</td>\n",
       "      <td>2017-12-21</td>\n",
       "      <td>אוניברסיטת אריאל/כביש 31</td>\n",
       "      <td>32.105926</td>\n",
       "      <td>35.210692</td>\n",
       "      <td>234</td>\n",
       "      <td>השומרון</td>\n",
       "      <td>9735</td>\n",
       "      <td>1</td>\n",
       "      <td>70</td>\n",
       "      <td>קניון קרני שומרון-קרני שומרון&lt;-&gt;אוניברסיטת ארי...</td>\n",
       "    </tr>\n",
       "    <tr>\n",
       "      <th>3226937</th>\n",
       "      <td>10096399_171217</td>\n",
       "      <td>1 days 00:05:22</td>\n",
       "      <td>1 days 00:05:22</td>\n",
       "      <td>34503</td>\n",
       "      <td>37</td>\n",
       "      <td>2017-12-21</td>\n",
       "      <td>אוניברסיטת אריאל/כביש 31</td>\n",
       "      <td>32.105926</td>\n",
       "      <td>35.210692</td>\n",
       "      <td>234</td>\n",
       "      <td>השומרון</td>\n",
       "      <td>9735</td>\n",
       "      <td>1</td>\n",
       "      <td>70</td>\n",
       "      <td>קניון קרני שומרון-קרני שומרון&lt;-&gt;אוניברסיטת ארי...</td>\n",
       "    </tr>\n",
       "    <tr>\n",
       "      <th>3227555</th>\n",
       "      <td>10221383_171217</td>\n",
       "      <td>0 days 15:21:28</td>\n",
       "      <td>0 days 15:21:28</td>\n",
       "      <td>34654</td>\n",
       "      <td>16</td>\n",
       "      <td>2017-12-21</td>\n",
       "      <td>קופת חולים לאומית/דרך הנחשונים</td>\n",
       "      <td>32.105873</td>\n",
       "      <td>35.171849</td>\n",
       "      <td>234</td>\n",
       "      <td>השומרון</td>\n",
       "      <td>9194</td>\n",
       "      <td>1</td>\n",
       "      <td>102</td>\n",
       "      <td>קופת חולים כללית-ברכה&lt;-&gt;קופת חולים לאומית/דרך ...</td>\n",
       "    </tr>\n",
       "    <tr>\n",
       "      <th>3227571</th>\n",
       "      <td>10221384_171217</td>\n",
       "      <td>0 days 16:26:28</td>\n",
       "      <td>0 days 16:26:28</td>\n",
       "      <td>34654</td>\n",
       "      <td>16</td>\n",
       "      <td>2017-12-21</td>\n",
       "      <td>קופת חולים לאומית/דרך הנחשונים</td>\n",
       "      <td>32.105873</td>\n",
       "      <td>35.171849</td>\n",
       "      <td>234</td>\n",
       "      <td>השומרון</td>\n",
       "      <td>9194</td>\n",
       "      <td>1</td>\n",
       "      <td>102</td>\n",
       "      <td>קופת חולים כללית-ברכה&lt;-&gt;קופת חולים לאומית/דרך ...</td>\n",
       "    </tr>\n",
       "    <tr>\n",
       "      <th>973521</th>\n",
       "      <td>10230038_171217</td>\n",
       "      <td>0 days 16:26:40</td>\n",
       "      <td>0 days 16:26:40</td>\n",
       "      <td>22173</td>\n",
       "      <td>31</td>\n",
       "      <td>2017-12-21</td>\n",
       "      <td>בריכה/עמק דותן</td>\n",
       "      <td>31.899377</td>\n",
       "      <td>35.017810</td>\n",
       "      <td>232</td>\n",
       "      <td>חבל מודיעין</td>\n",
       "      <td>11169</td>\n",
       "      <td>1</td>\n",
       "      <td>101</td>\n",
       "      <td>מסוף 2000-תל אביב יפו&lt;-&gt;בריכה/עמק דותן-מודיעין...</td>\n",
       "    </tr>\n",
       "  </tbody>\n",
       "</table>\n",
       "</div>"
      ],
      "text/plain": [
       "                 trip_id  departure_time    arrival_time stop_id  \\\n",
       "3226900  10096398_171217 0 days 22:05:22 0 days 22:05:22   34503   \n",
       "3226937  10096399_171217 1 days 00:05:22 1 days 00:05:22   34503   \n",
       "3227555  10221383_171217 0 days 15:21:28 0 days 15:21:28   34654   \n",
       "3227571  10221384_171217 0 days 16:26:28 0 days 16:26:28   34654   \n",
       "973521   10230038_171217 0 days 16:26:40 0 days 16:26:40   22173   \n",
       "\n",
       "         stop_sequence        date                       stop_name   stop_lat  \\\n",
       "3226900             37  2017-12-21        אוניברסיטת אריאל/כביש 31  32.105926   \n",
       "3226937             37  2017-12-21        אוניברסיטת אריאל/כביש 31  32.105926   \n",
       "3227555             16  2017-12-21  קופת חולים לאומית/דרך הנחשונים  32.105873   \n",
       "3227571             16  2017-12-21  קופת חולים לאומית/דרך הנחשונים  32.105873   \n",
       "973521              31  2017-12-21                  בריכה/עמק דותן  31.899377   \n",
       "\n",
       "          stop_lon zone_id    zone_name route_id  direction_id  \\\n",
       "3226900  35.210692     234      השומרון     9735             1   \n",
       "3226937  35.210692     234      השומרון     9735             1   \n",
       "3227555  35.171849     234      השומרון     9194             1   \n",
       "3227571  35.171849     234      השומרון     9194             1   \n",
       "973521   35.017810     232  חבל מודיעין    11169             1   \n",
       "\n",
       "        route_short_name                                    route_long_name  \n",
       "3226900               70  קניון קרני שומרון-קרני שומרון<->אוניברסיטת ארי...  \n",
       "3226937               70  קניון קרני שומרון-קרני שומרון<->אוניברסיטת ארי...  \n",
       "3227555              102  קופת חולים כללית-ברכה<->קופת חולים לאומית/דרך ...  \n",
       "3227571              102  קופת חולים כללית-ברכה<->קופת חולים לאומית/דרך ...  \n",
       "973521               101  מסוף 2000-תל אביב יפו<->בריכה/עמק דותן-מודיעין...  "
      ]
     },
     "execution_count": 22,
     "metadata": {},
     "output_type": "execute_result"
    }
   ],
   "source": [
    "idx = f.groupby(['trip_id'], sort=False)['arrival_time'].transform(max) == f['arrival_time']\n",
    "f[idx].sort_values(by='trip_id').head()"
   ]
  },
  {
   "cell_type": "markdown",
   "metadata": {},
   "source": [
    "That took less than a second to run, now lets see if we also got better results"
   ]
  },
  {
   "cell_type": "code",
   "execution_count": 23,
   "metadata": {},
   "outputs": [
    {
     "data": {
      "text/plain": [
       "(92212, 15)"
      ]
     },
     "execution_count": 23,
     "metadata": {},
     "output_type": "execute_result"
    }
   ],
   "source": [
    "f[idx].shape"
   ]
  },
  {
   "cell_type": "markdown",
   "metadata": {},
   "source": [
    "Ok we're on the good side of the error this time (I think), with some false positives instead of negatives.\n",
    "\n",
    "But now it means we might have duplicate trips in our dataset :(\n",
    "\n",
    "Let's zoom-in on one of the duplicate trips"
   ]
  },
  {
   "cell_type": "code",
   "execution_count": 24,
   "metadata": {},
   "outputs": [
    {
     "data": {
      "text/plain": [
       "29881457_211217    2\n",
       "24473826_211217    2\n",
       "29871173_211217    2\n",
       "10475384_211217    2\n",
       "11944462_171217    2\n",
       "Name: trip_id, dtype: int64"
      ]
     },
     "execution_count": 24,
     "metadata": {},
     "output_type": "execute_result"
    }
   ],
   "source": [
    "f[idx].trip_id.value_counts().head()"
   ]
  },
  {
   "cell_type": "code",
   "execution_count": 25,
   "metadata": {},
   "outputs": [
    {
     "data": {
      "text/html": [
       "<div>\n",
       "<style scoped>\n",
       "    .dataframe tbody tr th:only-of-type {\n",
       "        vertical-align: middle;\n",
       "    }\n",
       "\n",
       "    .dataframe tbody tr th {\n",
       "        vertical-align: top;\n",
       "    }\n",
       "\n",
       "    .dataframe thead th {\n",
       "        text-align: right;\n",
       "    }\n",
       "</style>\n",
       "<table border=\"1\" class=\"dataframe\">\n",
       "  <thead>\n",
       "    <tr style=\"text-align: right;\">\n",
       "      <th></th>\n",
       "      <th>trip_id</th>\n",
       "      <th>arrival_time</th>\n",
       "      <th>departure_time</th>\n",
       "      <th>stop_id</th>\n",
       "      <th>stop_sequence</th>\n",
       "      <th>pickup_type</th>\n",
       "      <th>drop_off_type</th>\n",
       "      <th>shape_dist_traveled</th>\n",
       "    </tr>\n",
       "  </thead>\n",
       "  <tbody>\n",
       "    <tr>\n",
       "      <th>14876171</th>\n",
       "      <td>24167955_171217</td>\n",
       "      <td>56920.0</td>\n",
       "      <td>56920.0</td>\n",
       "      <td>36923</td>\n",
       "      <td>31</td>\n",
       "      <td>0.0</td>\n",
       "      <td>0</td>\n",
       "      <td>6364</td>\n",
       "    </tr>\n",
       "  </tbody>\n",
       "</table>\n",
       "</div>"
      ],
      "text/plain": [
       "                  trip_id  arrival_time  departure_time stop_id  \\\n",
       "14876171  24167955_171217       56920.0         56920.0   36923   \n",
       "\n",
       "          stop_sequence  pickup_type drop_off_type  shape_dist_traveled  \n",
       "14876171             31          0.0             0                 6364  "
      ]
     },
     "execution_count": 25,
     "metadata": {},
     "output_type": "execute_result"
    }
   ],
   "source": [
    "st = feed.stop_times\n",
    "st[((st.trip_id=='24167955_171217') & (st.stop_sequence==31)) ]"
   ]
  },
  {
   "cell_type": "code",
   "execution_count": 26,
   "metadata": {},
   "outputs": [
    {
     "data": {
      "text/html": [
       "<div>\n",
       "<style scoped>\n",
       "    .dataframe tbody tr th:only-of-type {\n",
       "        vertical-align: middle;\n",
       "    }\n",
       "\n",
       "    .dataframe tbody tr th {\n",
       "        vertical-align: top;\n",
       "    }\n",
       "\n",
       "    .dataframe thead th {\n",
       "        text-align: right;\n",
       "    }\n",
       "</style>\n",
       "<table border=\"1\" class=\"dataframe\">\n",
       "  <thead>\n",
       "    <tr style=\"text-align: right;\">\n",
       "      <th></th>\n",
       "      <th>trip_id</th>\n",
       "      <th>departure_time</th>\n",
       "      <th>arrival_time</th>\n",
       "      <th>stop_id</th>\n",
       "      <th>stop_sequence</th>\n",
       "      <th>date</th>\n",
       "      <th>stop_name</th>\n",
       "      <th>stop_lat</th>\n",
       "      <th>stop_lon</th>\n",
       "      <th>zone_id</th>\n",
       "      <th>zone_name</th>\n",
       "      <th>route_id</th>\n",
       "      <th>direction_id</th>\n",
       "      <th>route_short_name</th>\n",
       "      <th>route_long_name</th>\n",
       "    </tr>\n",
       "  </thead>\n",
       "  <tbody>\n",
       "    <tr>\n",
       "      <th>2757683</th>\n",
       "      <td>24167955_171217</td>\n",
       "      <td>15:48:40</td>\n",
       "      <td>15:48:40</td>\n",
       "      <td>36923</td>\n",
       "      <td>31</td>\n",
       "      <td>2017-12-21</td>\n",
       "      <td>הריטב''א ג</td>\n",
       "      <td>31.929852</td>\n",
       "      <td>35.049796</td>\n",
       "      <td>232</td>\n",
       "      <td>חבל מודיעין</td>\n",
       "      <td>11514</td>\n",
       "      <td>1</td>\n",
       "      <td>5</td>\n",
       "      <td>מסילת ישרים/דרך קרית ספר-מודיעין עילית&lt;-&gt;אבי ע...</td>\n",
       "    </tr>\n",
       "    <tr>\n",
       "      <th>2757684</th>\n",
       "      <td>24167955_171217</td>\n",
       "      <td>15:48:40</td>\n",
       "      <td>15:48:40</td>\n",
       "      <td>36923</td>\n",
       "      <td>31</td>\n",
       "      <td>2017-12-21</td>\n",
       "      <td>הריטב''א ג</td>\n",
       "      <td>31.929852</td>\n",
       "      <td>35.049796</td>\n",
       "      <td>232</td>\n",
       "      <td>חבל מודיעין</td>\n",
       "      <td>11514</td>\n",
       "      <td>1</td>\n",
       "      <td>5</td>\n",
       "      <td>מסילת ישרים/דרך קרית ספר-מודיעין עילית&lt;-&gt;אבי ע...</td>\n",
       "    </tr>\n",
       "  </tbody>\n",
       "</table>\n",
       "</div>"
      ],
      "text/plain": [
       "                 trip_id departure_time arrival_time stop_id  stop_sequence  \\\n",
       "2757683  24167955_171217       15:48:40     15:48:40   36923             31   \n",
       "2757684  24167955_171217       15:48:40     15:48:40   36923             31   \n",
       "\n",
       "               date   stop_name   stop_lat   stop_lon zone_id    zone_name  \\\n",
       "2757683  2017-12-21  הריטב''א ג  31.929852  35.049796     232  חבל מודיעין   \n",
       "2757684  2017-12-21  הריטב''א ג  31.929852  35.049796     232  חבל מודיעין   \n",
       "\n",
       "        route_id  direction_id route_short_name  \\\n",
       "2757683    11514             1                5   \n",
       "2757684    11514             1                5   \n",
       "\n",
       "                                           route_long_name  \n",
       "2757683  מסילת ישרים/דרך קרית ספר-מודיעין עילית<->אבי ע...  \n",
       "2757684  מסילת ישרים/דרך קרית ספר-מודיעין עילית<->אבי ע...  "
      ]
     },
     "execution_count": 26,
     "metadata": {},
     "output_type": "execute_result"
    }
   ],
   "source": [
    "f[((f.trip_id=='24167955_171217') & (f.stop_sequence==31)) ]"
   ]
  },
  {
   "cell_type": "markdown",
   "metadata": {},
   "source": [
    "Ok, that looks better, this problem is only in my `f` feed merged data frame, not in the original `stop_times.txt`.\n",
    "\n",
    "I debug `f`'s creation to see (by building it one step at a time), I spare you these steps, and give you the problematic step: "
   ]
  },
  {
   "cell_type": "code",
   "execution_count": 27,
   "metadata": {},
   "outputs": [
    {
     "data": {
      "text/html": [
       "<div>\n",
       "<style scoped>\n",
       "    .dataframe tbody tr th:only-of-type {\n",
       "        vertical-align: middle;\n",
       "    }\n",
       "\n",
       "    .dataframe tbody tr th {\n",
       "        vertical-align: top;\n",
       "    }\n",
       "\n",
       "    .dataframe thead th {\n",
       "        text-align: right;\n",
       "    }\n",
       "</style>\n",
       "<table border=\"1\" class=\"dataframe\">\n",
       "  <thead>\n",
       "    <tr style=\"text-align: right;\">\n",
       "      <th></th>\n",
       "      <th>trip_id</th>\n",
       "      <th>departure_time</th>\n",
       "      <th>arrival_time</th>\n",
       "      <th>stop_id</th>\n",
       "      <th>stop_sequence</th>\n",
       "      <th>date</th>\n",
       "      <th>stop_name</th>\n",
       "      <th>stop_lat</th>\n",
       "      <th>stop_lon</th>\n",
       "      <th>zone_id</th>\n",
       "      <th>zone_name</th>\n",
       "    </tr>\n",
       "  </thead>\n",
       "  <tbody>\n",
       "    <tr>\n",
       "      <th>2557765</th>\n",
       "      <td>10230038_171217</td>\n",
       "      <td>59200.0</td>\n",
       "      <td>59200.0</td>\n",
       "      <td>22173</td>\n",
       "      <td>31</td>\n",
       "      <td>2017-12-21</td>\n",
       "      <td>בריכה/עמק דותן</td>\n",
       "      <td>31.899377</td>\n",
       "      <td>35.01781</td>\n",
       "      <td>232</td>\n",
       "      <td>חבל מודיעין</td>\n",
       "    </tr>\n",
       "    <tr>\n",
       "      <th>2557766</th>\n",
       "      <td>10230038_171217</td>\n",
       "      <td>59200.0</td>\n",
       "      <td>59200.0</td>\n",
       "      <td>22173</td>\n",
       "      <td>31</td>\n",
       "      <td>2017-12-21</td>\n",
       "      <td>בריכה/עמק דותן</td>\n",
       "      <td>31.899377</td>\n",
       "      <td>35.01781</td>\n",
       "      <td>232</td>\n",
       "      <td>חבל מודיעין</td>\n",
       "    </tr>\n",
       "  </tbody>\n",
       "</table>\n",
       "</div>"
      ],
      "text/plain": [
       "                 trip_id  departure_time  arrival_time stop_id  stop_sequence  \\\n",
       "2557765  10230038_171217         59200.0       59200.0   22173             31   \n",
       "2557766  10230038_171217         59200.0       59200.0   22173             31   \n",
       "\n",
       "               date       stop_name   stop_lat  stop_lon zone_id    zone_name  \n",
       "2557765  2017-12-21  בריכה/עמק דותן  31.899377  35.01781     232  חבל מודיעין  \n",
       "2557766  2017-12-21  בריכה/עמק דותן  31.899377  35.01781     232  חבל מודיעין  "
      ]
     },
     "execution_count": 27,
     "metadata": {},
     "output_type": "execute_result"
    }
   ],
   "source": [
    "ftest = (feed.stop_times[['trip_id', 'departure_time', 'arrival_time', 'stop_id', 'stop_sequence']]\n",
    "     .assign(date = datetime.date(2017, 12, 21))\n",
    "     .merge(s[['stop_id', 'stop_name', 'stop_lat', 'stop_lon', 'zone_id']], on='stop_id')\n",
    "      # Much faster joins and slices with Categorical dtypes\n",
    "     .merge(tariff_df[['zone_id', 'zone_name']], on='zone_id')\n",
    "\n",
    "    )\n",
    "ftest[ ((ftest.trip_id=='10230038_171217') & (ftest.stop_sequence==31)) ]"
   ]
  },
  {
   "cell_type": "code",
   "execution_count": 28,
   "metadata": {},
   "outputs": [
    {
     "data": {
      "text/html": [
       "<div>\n",
       "<style scoped>\n",
       "    .dataframe tbody tr th:only-of-type {\n",
       "        vertical-align: middle;\n",
       "    }\n",
       "\n",
       "    .dataframe tbody tr th {\n",
       "        vertical-align: top;\n",
       "    }\n",
       "\n",
       "    .dataframe thead th {\n",
       "        text-align: right;\n",
       "    }\n",
       "</style>\n",
       "<table border=\"1\" class=\"dataframe\">\n",
       "  <thead>\n",
       "    <tr style=\"text-align: right;\">\n",
       "      <th></th>\n",
       "      <th>Daily</th>\n",
       "      <th>FromDate</th>\n",
       "      <th>Monthly</th>\n",
       "      <th>ShareCode</th>\n",
       "      <th>ToDate</th>\n",
       "      <th>Weekly</th>\n",
       "      <th>zone_id</th>\n",
       "      <th>zone_name</th>\n",
       "    </tr>\n",
       "  </thead>\n",
       "  <tbody>\n",
       "    <tr>\n",
       "      <th>14</th>\n",
       "      <td>13.5</td>\n",
       "      <td>01/04/2016 00:00:00</td>\n",
       "      <td>149.0</td>\n",
       "      <td>156.0</td>\n",
       "      <td>01/01/2200 00:00:00</td>\n",
       "      <td>57.5</td>\n",
       "      <td>232</td>\n",
       "      <td>חבל מודיעין</td>\n",
       "    </tr>\n",
       "    <tr>\n",
       "      <th>57</th>\n",
       "      <td>13.5</td>\n",
       "      <td>01/04/2016 00:00:00</td>\n",
       "      <td>149.0</td>\n",
       "      <td>697.0</td>\n",
       "      <td>01/01/2200 00:00:00</td>\n",
       "      <td>57.5</td>\n",
       "      <td>232</td>\n",
       "      <td>חבל מודיעין</td>\n",
       "    </tr>\n",
       "  </tbody>\n",
       "</table>\n",
       "</div>"
      ],
      "text/plain": [
       "    Daily             FromDate  Monthly  ShareCode               ToDate  \\\n",
       "14   13.5  01/04/2016 00:00:00    149.0      156.0  01/01/2200 00:00:00   \n",
       "57   13.5  01/04/2016 00:00:00    149.0      697.0  01/01/2200 00:00:00   \n",
       "\n",
       "    Weekly zone_id    zone_name  \n",
       "14    57.5     232  חבל מודיעין  \n",
       "57    57.5     232  חבל מודיעין  "
      ]
     },
     "execution_count": 28,
     "metadata": {},
     "output_type": "execute_result"
    }
   ],
   "source": [
    "tariff_df[tariff_df.zone_id=='232']"
   ]
  },
  {
   "cell_type": "markdown",
   "metadata": {},
   "source": [
    "Got it! Source of all evil - the super-messy tariff file where we get the zone names from."
   ]
  },
  {
   "cell_type": "code",
   "execution_count": 29,
   "metadata": {},
   "outputs": [
    {
     "data": {
      "text/plain": [
       "zone_id  zone_name                \n",
       "110      סובב ירושלים                 1\n",
       "121      הרי ירושלים                  1\n",
       "122      בנימין                       1\n",
       "123      גוש עציון                    1\n",
       "131      אזור בית שמש                 1\n",
       "133      בקעת ים המלח                 1\n",
       "134      אזור קריית ארבע              1\n",
       "135      גוש שילה ובקעה               1\n",
       "210      גוש דן                       1\n",
       "221      שרון                         1\n",
       "222      ראש העין שוהם                1\n",
       "223      רחובות                       1\n",
       "231      נתניה                        1\n",
       "232      חבל מודיעין                  2\n",
       "233      אשדוד                        1\n",
       "234      השומרון                      1\n",
       "310      סובב חיפה                    1\n",
       "321      עכו                          1\n",
       "322      יוקנעם- טבעון                1\n",
       "331      נהריה                        1\n",
       "332      כרמיאל                       1\n",
       "333      נצרת                         1\n",
       "334      זכרון                        1\n",
       "410      באר שבע                      1\n",
       "421      רהט להבים                    1\n",
       "422      אופקים                       1\n",
       "423      עומר חורה                    1\n",
       "431      נתיבות שדרות                 1\n",
       "432      ירוחם                        1\n",
       "433      ערד דימונה                   1\n",
       "434      דרום הר חברון                1\n",
       "501      גליל עליון ורמת הגולן        1\n",
       "502      סובב כנרת ודרום רמת הגולן    1\n",
       "601      עפולה                        1\n",
       "602      בית שאן                      1\n",
       "701      אזור חדרה                    1\n",
       "702      חריש ואדי ערה                1\n",
       "801      אשקלון                       1\n",
       "802      קריית גת                     1\n",
       "901      אילת                         1\n",
       "902      ערבה                         1\n",
       "903      מצפה רמון                    1\n",
       "dtype: int64"
      ]
     },
     "execution_count": 29,
     "metadata": {},
     "output_type": "execute_result"
    }
   ],
   "source": [
    "tariff_df.groupby(['zone_id', 'zone_name']).size()"
   ]
  },
  {
   "cell_type": "markdown",
   "metadata": {},
   "source": [
    "See if you can find the needle...\n",
    "\n",
    "Now lets rebuild our `f` dataset with deduped zones:"
   ]
  },
  {
   "cell_type": "code",
   "execution_count": 30,
   "metadata": {},
   "outputs": [
    {
     "data": {
      "text/html": [
       "<div>\n",
       "<style scoped>\n",
       "    .dataframe tbody tr th:only-of-type {\n",
       "        vertical-align: middle;\n",
       "    }\n",
       "\n",
       "    .dataframe tbody tr th {\n",
       "        vertical-align: top;\n",
       "    }\n",
       "\n",
       "    .dataframe thead th {\n",
       "        text-align: right;\n",
       "    }\n",
       "</style>\n",
       "<table border=\"1\" class=\"dataframe\">\n",
       "  <thead>\n",
       "    <tr style=\"text-align: right;\">\n",
       "      <th></th>\n",
       "      <th>trip_id</th>\n",
       "      <th>departure_time</th>\n",
       "      <th>arrival_time</th>\n",
       "      <th>stop_id</th>\n",
       "      <th>stop_sequence</th>\n",
       "      <th>date</th>\n",
       "      <th>stop_name</th>\n",
       "      <th>stop_lat</th>\n",
       "      <th>stop_lon</th>\n",
       "      <th>zone_id</th>\n",
       "      <th>zone_name</th>\n",
       "    </tr>\n",
       "  </thead>\n",
       "  <tbody>\n",
       "    <tr>\n",
       "      <th>2493834</th>\n",
       "      <td>10230038_171217</td>\n",
       "      <td>59200.0</td>\n",
       "      <td>59200.0</td>\n",
       "      <td>22173</td>\n",
       "      <td>31</td>\n",
       "      <td>2017-12-21</td>\n",
       "      <td>בריכה/עמק דותן</td>\n",
       "      <td>31.899377</td>\n",
       "      <td>35.01781</td>\n",
       "      <td>232</td>\n",
       "      <td>חבל מודיעין</td>\n",
       "    </tr>\n",
       "  </tbody>\n",
       "</table>\n",
       "</div>"
      ],
      "text/plain": [
       "                 trip_id  departure_time  arrival_time stop_id  stop_sequence  \\\n",
       "2493834  10230038_171217         59200.0       59200.0   22173             31   \n",
       "\n",
       "               date       stop_name   stop_lat  stop_lon zone_id    zone_name  \n",
       "2493834  2017-12-21  בריכה/עמק דותן  31.899377  35.01781     232  חבל מודיעין  "
      ]
     },
     "execution_count": 30,
     "metadata": {},
     "output_type": "execute_result"
    }
   ],
   "source": [
    "ftry = (feed.stop_times[['trip_id', 'departure_time', 'arrival_time', 'stop_id', 'stop_sequence']]\n",
    "     .assign(date = datetime.date(2017, 12, 21))\n",
    "     .merge(s[['stop_id', 'stop_name', 'stop_lat', 'stop_lon', 'zone_id']], on='stop_id')\n",
    "      # Much faster joins and slices with Categorical dtypes\n",
    "     .merge(tariff_df.groupby(['zone_id', 'zone_name']).size().reset_index()[['zone_id', 'zone_name']], on='zone_id')\n",
    "    )\n",
    "ftry [ ((ftry.trip_id=='10230038_171217') & (ftry.stop_sequence==31)) ]"
   ]
  },
  {
   "cell_type": "code",
   "execution_count": 31,
   "metadata": {},
   "outputs": [
    {
     "data": {
      "text/html": [
       "<div>\n",
       "<style scoped>\n",
       "    .dataframe tbody tr th:only-of-type {\n",
       "        vertical-align: middle;\n",
       "    }\n",
       "\n",
       "    .dataframe tbody tr th {\n",
       "        vertical-align: top;\n",
       "    }\n",
       "\n",
       "    .dataframe thead th {\n",
       "        text-align: right;\n",
       "    }\n",
       "</style>\n",
       "<table border=\"1\" class=\"dataframe\">\n",
       "  <thead>\n",
       "    <tr style=\"text-align: right;\">\n",
       "      <th></th>\n",
       "      <th>trip_id</th>\n",
       "      <th>departure_time</th>\n",
       "      <th>arrival_time</th>\n",
       "      <th>stop_id</th>\n",
       "      <th>stop_sequence</th>\n",
       "      <th>date</th>\n",
       "      <th>stop_name</th>\n",
       "      <th>stop_lat</th>\n",
       "      <th>stop_lon</th>\n",
       "      <th>zone_id</th>\n",
       "      <th>zone_name</th>\n",
       "      <th>route_id</th>\n",
       "      <th>direction_id</th>\n",
       "      <th>route_short_name</th>\n",
       "      <th>route_long_name</th>\n",
       "    </tr>\n",
       "  </thead>\n",
       "  <tbody>\n",
       "    <tr>\n",
       "      <th>0</th>\n",
       "      <td>28917380_191217</td>\n",
       "      <td>08:57:00</td>\n",
       "      <td>08:57:00</td>\n",
       "      <td>37312</td>\n",
       "      <td>1</td>\n",
       "      <td>2017-12-21</td>\n",
       "      <td>באר שבע מרכז</td>\n",
       "      <td>31.242886</td>\n",
       "      <td>34.798546</td>\n",
       "      <td>410</td>\n",
       "      <td>באר שבע</td>\n",
       "      <td>20950</td>\n",
       "      <td>1</td>\n",
       "      <td>NaN</td>\n",
       "      <td>באר שבע מרכז-באר שבע&lt;-&gt;תל אביב מרכז-תל אביב יפו</td>\n",
       "    </tr>\n",
       "    <tr>\n",
       "      <th>1</th>\n",
       "      <td>28917380_191217</td>\n",
       "      <td>09:04:00</td>\n",
       "      <td>09:04:00</td>\n",
       "      <td>37314</td>\n",
       "      <td>2</td>\n",
       "      <td>2017-12-21</td>\n",
       "      <td>באר שבע-צפון</td>\n",
       "      <td>31.262089</td>\n",
       "      <td>34.809287</td>\n",
       "      <td>410</td>\n",
       "      <td>באר שבע</td>\n",
       "      <td>20950</td>\n",
       "      <td>1</td>\n",
       "      <td>NaN</td>\n",
       "      <td>באר שבע מרכז-באר שבע&lt;-&gt;תל אביב מרכז-תל אביב יפו</td>\n",
       "    </tr>\n",
       "    <tr>\n",
       "      <th>2</th>\n",
       "      <td>28917380_191217</td>\n",
       "      <td>09:13:00</td>\n",
       "      <td>09:13:00</td>\n",
       "      <td>37308</td>\n",
       "      <td>3</td>\n",
       "      <td>2017-12-21</td>\n",
       "      <td>להבים רהט</td>\n",
       "      <td>31.369907</td>\n",
       "      <td>34.798040</td>\n",
       "      <td>421</td>\n",
       "      <td>רהט להבים</td>\n",
       "      <td>20950</td>\n",
       "      <td>1</td>\n",
       "      <td>NaN</td>\n",
       "      <td>באר שבע מרכז-באר שבע&lt;-&gt;תל אביב מרכז-תל אביב יפו</td>\n",
       "    </tr>\n",
       "    <tr>\n",
       "      <th>3</th>\n",
       "      <td>28917380_191217</td>\n",
       "      <td>09:29:00</td>\n",
       "      <td>09:29:00</td>\n",
       "      <td>37316</td>\n",
       "      <td>4</td>\n",
       "      <td>2017-12-21</td>\n",
       "      <td>קרית גת</td>\n",
       "      <td>31.603526</td>\n",
       "      <td>34.777955</td>\n",
       "      <td>802</td>\n",
       "      <td>קריית גת</td>\n",
       "      <td>20950</td>\n",
       "      <td>1</td>\n",
       "      <td>NaN</td>\n",
       "      <td>באר שבע מרכז-באר שבע&lt;-&gt;תל אביב מרכז-תל אביב יפו</td>\n",
       "    </tr>\n",
       "    <tr>\n",
       "      <th>4</th>\n",
       "      <td>28917380_191217</td>\n",
       "      <td>09:54:00</td>\n",
       "      <td>09:54:00</td>\n",
       "      <td>37336</td>\n",
       "      <td>5</td>\n",
       "      <td>2017-12-21</td>\n",
       "      <td>רמלה</td>\n",
       "      <td>31.928809</td>\n",
       "      <td>34.877304</td>\n",
       "      <td>210</td>\n",
       "      <td>גוש דן</td>\n",
       "      <td>20950</td>\n",
       "      <td>1</td>\n",
       "      <td>NaN</td>\n",
       "      <td>באר שבע מרכז-באר שבע&lt;-&gt;תל אביב מרכז-תל אביב יפו</td>\n",
       "    </tr>\n",
       "  </tbody>\n",
       "</table>\n",
       "</div>"
      ],
      "text/plain": [
       "           trip_id departure_time arrival_time stop_id  stop_sequence  \\\n",
       "0  28917380_191217       08:57:00     08:57:00   37312              1   \n",
       "1  28917380_191217       09:04:00     09:04:00   37314              2   \n",
       "2  28917380_191217       09:13:00     09:13:00   37308              3   \n",
       "3  28917380_191217       09:29:00     09:29:00   37316              4   \n",
       "4  28917380_191217       09:54:00     09:54:00   37336              5   \n",
       "\n",
       "         date     stop_name   stop_lat   stop_lon zone_id  zone_name route_id  \\\n",
       "0  2017-12-21  באר שבע מרכז  31.242886  34.798546     410    באר שבע    20950   \n",
       "1  2017-12-21  באר שבע-צפון  31.262089  34.809287     410    באר שבע    20950   \n",
       "2  2017-12-21     להבים רהט  31.369907  34.798040     421  רהט להבים    20950   \n",
       "3  2017-12-21       קרית גת  31.603526  34.777955     802   קריית גת    20950   \n",
       "4  2017-12-21          רמלה  31.928809  34.877304     210     גוש דן    20950   \n",
       "\n",
       "   direction_id route_short_name  \\\n",
       "0             1              NaN   \n",
       "1             1              NaN   \n",
       "2             1              NaN   \n",
       "3             1              NaN   \n",
       "4             1              NaN   \n",
       "\n",
       "                                   route_long_name  \n",
       "0  באר שבע מרכז-באר שבע<->תל אביב מרכז-תל אביב יפו  \n",
       "1  באר שבע מרכז-באר שבע<->תל אביב מרכז-תל אביב יפו  \n",
       "2  באר שבע מרכז-באר שבע<->תל אביב מרכז-תל אביב יפו  \n",
       "3  באר שבע מרכז-באר שבע<->תל אביב מרכז-תל אביב יפו  \n",
       "4  באר שבע מרכז-באר שבע<->תל אביב מרכז-תל אביב יפו  "
      ]
     },
     "execution_count": 31,
     "metadata": {},
     "output_type": "execute_result"
    }
   ],
   "source": [
    "new_f = (feed.stop_times[['trip_id', 'departure_time', 'arrival_time', 'stop_id', 'stop_sequence']]\n",
    "     .assign(date = datetime.date(2017, 12, 21))\n",
    "     .merge(s[['stop_id', 'stop_name', 'stop_lat', 'stop_lon', 'zone_id']], on='stop_id')\n",
    "     # Much faster joins and slices with Categorical dtypes\n",
    "     .merge(tariff_df.groupby(['zone_id', 'zone_name']).size().reset_index()[['zone_id', 'zone_name']], on='zone_id')\n",
    "     .assign(zone_id=lambda x: pd.Categorical(x['zone_id']))\n",
    "     .assign(zone_name=lambda x: pd.Categorical(x['zone_name']))\n",
    "     .merge(t[['trip_id', 'route_id', 'direction_id']], on='trip_id')\n",
    "     .merge(r[['route_id', 'route_short_name', 'route_long_name']], on='route_id')\n",
    "     .assign(route_id=lambda x: pd.Categorical(x['route_id']))\n",
    "     .pipe(to_timedelta)\n",
    "    )\n",
    "new_f.head()"
   ]
  },
  {
   "cell_type": "markdown",
   "metadata": {},
   "source": [
    "TODO: apply this fix to previous and in-progress notebooks"
   ]
  },
  {
   "cell_type": "code",
   "execution_count": 32,
   "metadata": {},
   "outputs": [
    {
     "data": {
      "text/plain": [
       "4593165_171217     1\n",
       "19066288_171217    1\n",
       "29835808_171217    1\n",
       "27599781_171217    1\n",
       "24078835_171217    1\n",
       "Name: trip_id, dtype: int64"
      ]
     },
     "execution_count": 32,
     "metadata": {},
     "output_type": "execute_result"
    }
   ],
   "source": [
    "idx = new_f.groupby(['trip_id'], sort=False)['arrival_time'].transform(max) == new_f['arrival_time']\n",
    "new_f[idx].trip_id.value_counts().head()"
   ]
  },
  {
   "cell_type": "code",
   "execution_count": 33,
   "metadata": {
    "scrolled": true
   },
   "outputs": [
    {
     "data": {
      "text/plain": [
       "(89768, 15)"
      ]
     },
     "execution_count": 33,
     "metadata": {},
     "output_type": "execute_result"
    }
   ],
   "source": [
    "new_f[idx].shape"
   ]
  },
  {
   "cell_type": "markdown",
   "metadata": {},
   "source": [
    "Trip duplicates - <span style=\"color:green\">**check.**</span>\n",
    "\n",
    "And now we're actually missing 9. hmmmm... \n",
    "\n",
    "Lets see which ones we're missing."
   ]
  },
  {
   "cell_type": "code",
   "execution_count": 34,
   "metadata": {},
   "outputs": [
    {
     "data": {
      "text/html": [
       "<div>\n",
       "<style scoped>\n",
       "    .dataframe tbody tr th:only-of-type {\n",
       "        vertical-align: middle;\n",
       "    }\n",
       "\n",
       "    .dataframe tbody tr th {\n",
       "        vertical-align: top;\n",
       "    }\n",
       "\n",
       "    .dataframe thead th {\n",
       "        text-align: right;\n",
       "    }\n",
       "</style>\n",
       "<table border=\"1\" class=\"dataframe\">\n",
       "  <thead>\n",
       "    <tr style=\"text-align: right;\">\n",
       "      <th></th>\n",
       "      <th>route_id</th>\n",
       "      <th>service_id</th>\n",
       "      <th>trip_headsign</th>\n",
       "      <th>direction_id</th>\n",
       "      <th>shape_id</th>\n",
       "    </tr>\n",
       "    <tr>\n",
       "      <th>trip_id</th>\n",
       "      <th></th>\n",
       "      <th></th>\n",
       "      <th></th>\n",
       "      <th></th>\n",
       "      <th></th>\n",
       "    </tr>\n",
       "  </thead>\n",
       "  <tbody>\n",
       "    <tr>\n",
       "      <th>30277345_211217</th>\n",
       "      <td>8630</td>\n",
       "      <td>54178129</td>\n",
       "      <td>מודיעין עילית _ מרכז</td>\n",
       "      <td>1</td>\n",
       "      <td>NaN</td>\n",
       "    </tr>\n",
       "    <tr>\n",
       "      <th>30277344_211217</th>\n",
       "      <td>8630</td>\n",
       "      <td>54178129</td>\n",
       "      <td>מודיעין עילית _ מרכז</td>\n",
       "      <td>1</td>\n",
       "      <td>NaN</td>\n",
       "    </tr>\n",
       "    <tr>\n",
       "      <th>30277772_211217</th>\n",
       "      <td>8647</td>\n",
       "      <td>54178161</td>\n",
       "      <td>NaN</td>\n",
       "      <td>1</td>\n",
       "      <td>NaN</td>\n",
       "    </tr>\n",
       "    <tr>\n",
       "      <th>30277770_211217</th>\n",
       "      <td>8647</td>\n",
       "      <td>54178161</td>\n",
       "      <td>NaN</td>\n",
       "      <td>1</td>\n",
       "      <td>NaN</td>\n",
       "    </tr>\n",
       "    <tr>\n",
       "      <th>30278247_211217</th>\n",
       "      <td>8664</td>\n",
       "      <td>54178172</td>\n",
       "      <td>מודיעין עילית _ אחוזת ברכפלד</td>\n",
       "      <td>1</td>\n",
       "      <td>NaN</td>\n",
       "    </tr>\n",
       "    <tr>\n",
       "      <th>30278261_211217</th>\n",
       "      <td>8664</td>\n",
       "      <td>54178172</td>\n",
       "      <td>מודיעין עילית _ אחוזת ברכפלד</td>\n",
       "      <td>1</td>\n",
       "      <td>NaN</td>\n",
       "    </tr>\n",
       "    <tr>\n",
       "      <th>30278540_211217</th>\n",
       "      <td>8678</td>\n",
       "      <td>54178210</td>\n",
       "      <td>בני ברק _ מרכז</td>\n",
       "      <td>0</td>\n",
       "      <td>NaN</td>\n",
       "    </tr>\n",
       "    <tr>\n",
       "      <th>30278718_211217</th>\n",
       "      <td>8681</td>\n",
       "      <td>54178238</td>\n",
       "      <td>מודיעין עילית _ נאות הפסגה</td>\n",
       "      <td>1</td>\n",
       "      <td>63594</td>\n",
       "    </tr>\n",
       "    <tr>\n",
       "      <th>30278717_211217</th>\n",
       "      <td>8681</td>\n",
       "      <td>54178238</td>\n",
       "      <td>מודיעין עילית _ נאות הפסגה</td>\n",
       "      <td>1</td>\n",
       "      <td>63594</td>\n",
       "    </tr>\n",
       "  </tbody>\n",
       "</table>\n",
       "</div>"
      ],
      "text/plain": [
       "                route_id service_id                 trip_headsign  \\\n",
       "trip_id                                                             \n",
       "30277345_211217     8630   54178129          מודיעין עילית _ מרכז   \n",
       "30277344_211217     8630   54178129          מודיעין עילית _ מרכז   \n",
       "30277772_211217     8647   54178161                           NaN   \n",
       "30277770_211217     8647   54178161                           NaN   \n",
       "30278247_211217     8664   54178172  מודיעין עילית _ אחוזת ברכפלד   \n",
       "30278261_211217     8664   54178172  מודיעין עילית _ אחוזת ברכפלד   \n",
       "30278540_211217     8678   54178210                בני ברק _ מרכז   \n",
       "30278718_211217     8681   54178238    מודיעין עילית _ נאות הפסגה   \n",
       "30278717_211217     8681   54178238    מודיעין עילית _ נאות הפסגה   \n",
       "\n",
       "                 direction_id shape_id  \n",
       "trip_id                                 \n",
       "30277345_211217             1      NaN  \n",
       "30277344_211217             1      NaN  \n",
       "30277772_211217             1      NaN  \n",
       "30277770_211217             1      NaN  \n",
       "30278247_211217             1      NaN  \n",
       "30278261_211217             1      NaN  \n",
       "30278540_211217             0      NaN  \n",
       "30278718_211217             1    63594  \n",
       "30278717_211217             1    63594  "
      ]
     },
     "execution_count": 34,
     "metadata": {},
     "output_type": "execute_result"
    }
   ],
   "source": [
    "t = t.set_index('trip_id')\n",
    "missing_trips = t[~t.index.isin(new_f.trip_id)]\n",
    "missing_trips"
   ]
  },
  {
   "cell_type": "markdown",
   "metadata": {},
   "source": [
    "Maybe they just don't have stop times?"
   ]
  },
  {
   "cell_type": "code",
   "execution_count": 39,
   "metadata": {
    "scrolled": true
   },
   "outputs": [
    {
     "data": {
      "text/plain": [
       "(0, 8)"
      ]
     },
     "execution_count": 39,
     "metadata": {},
     "output_type": "execute_result"
    }
   ],
   "source": [
    "st[st.trip_id.isin(missing_trips.index)].shape"
   ]
  },
  {
   "cell_type": "markdown",
   "metadata": {},
   "source": [
    "Nope. Good!\n",
    "\n",
    "To be safe lets test we are getting `stop_times` rows from the same line of code, on another series of trips"
   ]
  },
  {
   "cell_type": "code",
   "execution_count": 37,
   "metadata": {},
   "outputs": [
    {
     "data": {
      "text/html": [
       "<div>\n",
       "<style scoped>\n",
       "    .dataframe tbody tr th:only-of-type {\n",
       "        vertical-align: middle;\n",
       "    }\n",
       "\n",
       "    .dataframe tbody tr th {\n",
       "        vertical-align: top;\n",
       "    }\n",
       "\n",
       "    .dataframe thead th {\n",
       "        text-align: right;\n",
       "    }\n",
       "</style>\n",
       "<table border=\"1\" class=\"dataframe\">\n",
       "  <thead>\n",
       "    <tr style=\"text-align: right;\">\n",
       "      <th></th>\n",
       "      <th>route_id</th>\n",
       "      <th>service_id</th>\n",
       "      <th>trip_headsign</th>\n",
       "      <th>direction_id</th>\n",
       "      <th>shape_id</th>\n",
       "    </tr>\n",
       "    <tr>\n",
       "      <th>trip_id</th>\n",
       "      <th></th>\n",
       "      <th></th>\n",
       "      <th></th>\n",
       "      <th></th>\n",
       "      <th></th>\n",
       "    </tr>\n",
       "  </thead>\n",
       "  <tbody>\n",
       "    <tr>\n",
       "      <th>30179315_211217</th>\n",
       "      <td>20444</td>\n",
       "      <td>54163484</td>\n",
       "      <td>יהוד מונוסון _ דרך העצמאות</td>\n",
       "      <td>0</td>\n",
       "      <td>82704</td>\n",
       "    </tr>\n",
       "    <tr>\n",
       "      <th>30179316_211217</th>\n",
       "      <td>20444</td>\n",
       "      <td>54163484</td>\n",
       "      <td>יהוד מונוסון _ דרך העצמאות</td>\n",
       "      <td>0</td>\n",
       "      <td>82704</td>\n",
       "    </tr>\n",
       "    <tr>\n",
       "      <th>30180186_211217</th>\n",
       "      <td>20354</td>\n",
       "      <td>54163559</td>\n",
       "      <td>יהוד מונוסון _ דרך העצמאות</td>\n",
       "      <td>1</td>\n",
       "      <td>82455</td>\n",
       "    </tr>\n",
       "    <tr>\n",
       "      <th>30180187_211217</th>\n",
       "      <td>20354</td>\n",
       "      <td>54163559</td>\n",
       "      <td>יהוד מונוסון _ דרך העצמאות</td>\n",
       "      <td>1</td>\n",
       "      <td>82455</td>\n",
       "    </tr>\n",
       "    <tr>\n",
       "      <th>30180188_211217</th>\n",
       "      <td>20354</td>\n",
       "      <td>54163559</td>\n",
       "      <td>יהוד מונוסון _ דרך העצמאות</td>\n",
       "      <td>1</td>\n",
       "      <td>82455</td>\n",
       "    </tr>\n",
       "  </tbody>\n",
       "</table>\n",
       "</div>"
      ],
      "text/plain": [
       "                route_id service_id               trip_headsign  direction_id  \\\n",
       "trip_id                                                                         \n",
       "30179315_211217    20444   54163484  יהוד מונוסון _ דרך העצמאות             0   \n",
       "30179316_211217    20444   54163484  יהוד מונוסון _ דרך העצמאות             0   \n",
       "30180186_211217    20354   54163559  יהוד מונוסון _ דרך העצמאות             1   \n",
       "30180187_211217    20354   54163559  יהוד מונוסון _ דרך העצמאות             1   \n",
       "30180188_211217    20354   54163559  יהוד מונוסון _ דרך העצמאות             1   \n",
       "\n",
       "                shape_id  \n",
       "trip_id                   \n",
       "30179315_211217    82704  \n",
       "30179316_211217    82704  \n",
       "30180186_211217    82455  \n",
       "30180187_211217    82455  \n",
       "30180188_211217    82455  "
      ]
     },
     "execution_count": 37,
     "metadata": {},
     "output_type": "execute_result"
    }
   ],
   "source": [
    "test_trips = t.head()\n",
    "test_trips"
   ]
  },
  {
   "cell_type": "code",
   "execution_count": 41,
   "metadata": {
    "scrolled": true
   },
   "outputs": [
    {
     "data": {
      "text/plain": [
       "(256, 8)"
      ]
     },
     "execution_count": 41,
     "metadata": {},
     "output_type": "execute_result"
    }
   ],
   "source": [
    "st[st.trip_id.isin(test_trips.index)].shape"
   ]
  },
  {
   "cell_type": "markdown",
   "metadata": {},
   "source": [
    "Missing trip - <span style=\"color:green\">**check.**</span>\n",
    "\n",
    "Woohoo! looks like we're good to go (For now :O )\n",
    "\n",
    "## Goodbye\n",
    "\n",
    "To shortly sum up - cleanup is an ongoing process. I have found an issue in the original data (stop_sequence) and an issue with how I merged tables (double zone in the very very messy tariffs table). \n",
    "\n",
    "See you soon when I test [GTFS best practices](http://gtfs.org/best-practices) on our GTFS files (with regards to loops routes, lasso routes and some more)."
   ]
  }
 ],
 "metadata": {
  "kernelspec": {
   "display_name": "Python 3",
   "language": "python",
   "name": "python3"
  },
  "language_info": {
   "codemirror_mode": {
    "name": "ipython",
    "version": 3
   },
   "file_extension": ".py",
   "mimetype": "text/x-python",
   "name": "python",
   "nbconvert_exporter": "python",
   "pygments_lexer": "ipython3",
   "version": "3.6.3"
  }
 },
 "nbformat": 4,
 "nbformat_minor": 2
}
