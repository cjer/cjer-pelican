{
 "cells": [
  {
   "cell_type": "markdown",
   "metadata": {},
   "source": [
    "This is an intro / tutorial notebook for getting started with GTFS data.  \n",
    "\n",
    "It is based on work that is shown on my dev blog [simplistic.me](http://simplistic.me/tag/gtfs.html). Posts there are not updated to current versions, mine or other packages'. Still, do check it out and feel free to comment or post an issue or pull request.\n",
    "\n",
    "This is only one basic workflow which I like. You can find many more examples for working with GTFS online. There are tools and packages in many languages.\n",
    "\n",
    "THE place to start is [awesome-transit](https://github.com/CUTR-at-USF/awesome-transit). \n",
    "\n",
    "TODO: Add more tools to this notebook - peartree, GTFSTK, UrbanAccess, Pandana"
   ]
  },
  {
   "cell_type": "markdown",
   "metadata": {},
   "source": [
    "## Installation\n",
    "TODO: Go to open-bus README (this needs to be there)\n",
    "\n",
    "1. Install Anaconda3\n",
    "1. Create a virtual environment (call it openbus or something indicative): `conda create -n openbus`\n",
    "1. Clone [open-bus-explore](https://github.com/cjer/open-bus-explore) - `git clone https://github.com/cjer/open-bus-explore`\n",
    "1. Install everything in [requirements.txt](https://github.com/cjer/open-bus-explore/blob/master/requirements.txt)\n",
    "    1. partridge, peartree and GTFSTK require `pip install`\n",
    "    1. the rest you should install using `conda install -c conda-forge <package_name>`\n",
    "1. Run JupyterLab or Jupyter Notebook"
   ]
  },
  {
   "cell_type": "markdown",
   "metadata": {},
   "source": [
    "## Imports and config"
   ]
  },
  {
   "cell_type": "code",
   "execution_count": 13,
   "metadata": {},
   "outputs": [],
   "source": [
    "# Put these at the top of every notebook, to get automatic reloading and inline plotting\n",
    "%reload_ext autoreload\n",
    "%autoreload 2\n",
    "%matplotlib inline"
   ]
  },
  {
   "cell_type": "code",
   "execution_count": 54,
   "metadata": {},
   "outputs": [],
   "source": [
    "import pandas as pd\n",
    "import partridge as ptg\n",
    "import matplotlib.pyplot as plt\n",
    "import seaborn as sns\n",
    "import altair as alt\n",
    "import datetime\n",
    "\n",
    "from gtfs_utils import *\n",
    "\n",
    "alt.renderers.enable('notebook')\n",
    "alt.data_transformers.enable('json')\n",
    "\n",
    "sns.set_style(\"white\")\n",
    "sns.set_context(\"talk\")\n",
    "sns.set_palette('Set2', 10)"
   ]
  },
  {
   "cell_type": "markdown",
   "metadata": {},
   "source": [
    "## Getting the data\n",
    "Three main options:\n",
    "1. Tap into the source: We have some functions for working with [MoT's FTP](#FTP).\n",
    "1. Our archive on [Amazon S3](#S3-archive)\n",
    "1. [TransitFeeds](#TransitFeeds)' Archive\n",
    "\n",
    "You can go to our redash interface if you prefer to work with SQL (can't attest to what the state of it is at any given moment)."
   ]
  },
  {
   "cell_type": "markdown",
   "metadata": {},
   "source": [
    "### FTP"
   ]
  },
  {
   "cell_type": "code",
   "execution_count": 15,
   "metadata": {},
   "outputs": [
    {
     "data": {
      "text/plain": [
       "['11-18-13  03:20PM       <DIR>          aspnet_client',\n",
       " '06-03-18  10:51PM                24144 ClusterToLine.zip',\n",
       " '06-03-18  10:51PM            166241157 israel-public-transportation.zip',\n",
       " '06-03-18  10:51PM               100818 Tariff.zip',\n",
       " '06-03-18  10:51PM                29295 TrainOfficeLineId.zip',\n",
       " '06-03-18  10:51PM              5914034 TripIdToDate.zip',\n",
       " '12-20-17  05:37PM                53105 zones.zip']"
      ]
     },
     "execution_count": 15,
     "metadata": {},
     "output_type": "execute_result"
    }
   ],
   "source": [
    "get_ftp_dir()"
   ]
  },
  {
   "cell_type": "markdown",
   "metadata": {},
   "source": [
    "We have the expected file names in constant variables in `gtfs_utils`"
   ]
  },
  {
   "cell_type": "code",
   "execution_count": 16,
   "metadata": {},
   "outputs": [
    {
     "data": {
      "text/plain": [
       "'israel-public-transportation.zip'"
      ]
     },
     "execution_count": 16,
     "metadata": {},
     "output_type": "execute_result"
    }
   ],
   "source": [
    "GTFS_FILE_NAME"
   ]
  },
  {
   "cell_type": "code",
   "execution_count": 17,
   "metadata": {},
   "outputs": [
    {
     "data": {
      "text/plain": [
       "'Tariff.zip'"
      ]
     },
     "execution_count": 17,
     "metadata": {},
     "output_type": "execute_result"
    }
   ],
   "source": [
    "TARIFF_FILE_NAME"
   ]
  },
  {
   "cell_type": "code",
   "execution_count": 18,
   "metadata": {},
   "outputs": [
    {
     "ename": "FileExistsError",
     "evalue": "Local file 'data/sample/latest_gtfs.zip' already exists, consider changing name for archiving purposes, or use the `force` flag",
     "output_type": "error",
     "traceback": [
      "\u001b[1;31m---------------------------------------------------------------------------\u001b[0m",
      "\u001b[1;31mFileExistsError\u001b[0m                           Traceback (most recent call last)",
      "\u001b[1;32m<ipython-input-18-a459f5f32d13>\u001b[0m in \u001b[0;36m<module>\u001b[1;34m()\u001b[0m\n\u001b[0;32m      2\u001b[0m \u001b[0mLOCAL_TARIFF_PATH\u001b[0m \u001b[1;33m=\u001b[0m \u001b[1;34m'data/sample/latest_tariff.zip'\u001b[0m\u001b[1;33m\u001b[0m\u001b[0m\n\u001b[0;32m      3\u001b[0m \u001b[1;33m\u001b[0m\u001b[0m\n\u001b[1;32m----> 4\u001b[1;33m \u001b[0mget_ftp_file\u001b[0m\u001b[1;33m(\u001b[0m\u001b[0mfile_name\u001b[0m \u001b[1;33m=\u001b[0m \u001b[0mGTFS_FILE_NAME\u001b[0m\u001b[1;33m,\u001b[0m \u001b[0mlocal_path\u001b[0m \u001b[1;33m=\u001b[0m \u001b[0mLOCAL_GTFS_ZIP_PATH\u001b[0m\u001b[1;33m)\u001b[0m\u001b[1;33m\u001b[0m\u001b[0m\n\u001b[0m",
      "\u001b[1;32mC:\\dev\\ds\\open-bus-explore\\gtfs_utils.py\u001b[0m in \u001b[0;36mget_ftp_file\u001b[1;34m(conn, file_name, local_path, force)\u001b[0m\n\u001b[0;32m     53\u001b[0m \u001b[1;33m\u001b[0m\u001b[0m\n\u001b[0;32m     54\u001b[0m     \u001b[1;32mif\u001b[0m \u001b[1;32mnot\u001b[0m \u001b[0mforce\u001b[0m \u001b[1;32mand\u001b[0m \u001b[0mos\u001b[0m\u001b[1;33m.\u001b[0m\u001b[0mpath\u001b[0m\u001b[1;33m.\u001b[0m\u001b[0mexists\u001b[0m\u001b[1;33m(\u001b[0m\u001b[0mlocal_path\u001b[0m\u001b[1;33m)\u001b[0m\u001b[1;33m:\u001b[0m\u001b[1;33m\u001b[0m\u001b[0m\n\u001b[1;32m---> 55\u001b[1;33m         \u001b[1;32mraise\u001b[0m \u001b[0mFileExistsError\u001b[0m\u001b[1;33m(\u001b[0m\u001b[1;34mf'Local file \\'{local_path}\\' already exists, consider changing name for archiving purposes, or use the `force` flag'\u001b[0m\u001b[1;33m)\u001b[0m\u001b[1;33m\u001b[0m\u001b[0m\n\u001b[0m\u001b[0;32m     56\u001b[0m \u001b[1;33m\u001b[0m\u001b[0m\n\u001b[0;32m     57\u001b[0m     \u001b[0mprint\u001b[0m\u001b[1;33m(\u001b[0m\u001b[1;34mf'Downloading {file_name}...'\u001b[0m\u001b[1;33m)\u001b[0m\u001b[1;33m\u001b[0m\u001b[0m\n",
      "\u001b[1;31mFileExistsError\u001b[0m: Local file 'data/sample/latest_gtfs.zip' already exists, consider changing name for archiving purposes, or use the `force` flag"
     ]
    }
   ],
   "source": [
    "LOCAL_GTFS_ZIP_PATH = 'data/sample/latest_gtfs.zip' \n",
    "LOCAL_TARIFF_PATH = 'data/sample/latest_tariff.zip' \n",
    "\n",
    "get_ftp_file(file_name = GTFS_FILE_NAME, local_path = LOCAL_GTFS_ZIP_PATH)"
   ]
  },
  {
   "cell_type": "markdown",
   "metadata": {},
   "source": [
    "By default we don't overide local files. But we can, by adding `force=True`"
   ]
  },
  {
   "cell_type": "code",
   "execution_count": 19,
   "metadata": {},
   "outputs": [
    {
     "name": "stdout",
     "output_type": "stream",
     "text": [
      "Downloading israel-public-transportation.zip...\n",
      "Done.\n"
     ]
    },
    {
     "data": {
      "text/plain": [
       "True"
      ]
     },
     "execution_count": 19,
     "metadata": {},
     "output_type": "execute_result"
    }
   ],
   "source": [
    "get_ftp_file(file_name = GTFS_FILE_NAME, \n",
    "             local_path = LOCAL_GTFS_ZIP_PATH, \n",
    "             force=True)"
   ]
  },
  {
   "cell_type": "code",
   "execution_count": 20,
   "metadata": {},
   "outputs": [
    {
     "name": "stdout",
     "output_type": "stream",
     "text": [
      "Downloading Tariff.zip...\n",
      "Done.\n"
     ]
    },
    {
     "data": {
      "text/plain": [
       "True"
      ]
     },
     "execution_count": 20,
     "metadata": {},
     "output_type": "execute_result"
    }
   ],
   "source": [
    "get_ftp_file(file_name = TARIFF_FILE_NAME, \n",
    "             local_path = LOCAL_TARIFF_PATH, \n",
    "             force=True )"
   ]
  },
  {
   "cell_type": "markdown",
   "metadata": {},
   "source": [
    "### S3 archive\n",
    "Another option is to get the files from our archive on S3. For now it does require credentials."
   ]
  },
  {
   "cell_type": "code",
   "execution_count": 21,
   "metadata": {},
   "outputs": [],
   "source": [
    "#!aws s3 cp s3://s3.obus.hasadna.org.il/2018-02-01.zip data/gtfs_feeds/2018-02-01.zip"
   ]
  },
  {
   "cell_type": "markdown",
   "metadata": {},
   "source": [
    "### TransitFeeds\n",
    "You can always turn to the great [TransitFeeds](http://www.transitfeeds.com) archive and search for the feed you want (MoT's feed is archived every about 2 weeks over there)."
   ]
  },
  {
   "cell_type": "markdown",
   "metadata": {},
   "source": [
    "## Creating a `partridge` feed\n",
    "We have a util function for getting a `partridge` feed object by date.  "
   ]
  },
  {
   "cell_type": "code",
   "execution_count": 22,
   "metadata": {},
   "outputs": [
    {
     "data": {
      "text/plain": [
       "partridge.gtfs.feed"
      ]
     },
     "execution_count": 22,
     "metadata": {},
     "output_type": "execute_result"
    }
   ],
   "source": [
    "feed = get_partridge_feed_by_date(LOCAL_GTFS_ZIP_PATH, datetime.date.today())\n",
    "type(feed)"
   ]
  },
  {
   "cell_type": "markdown",
   "metadata": {},
   "source": [
    "* *Another option would be to use `ptg.get_representative_feed()` which finds the busiest day of the gtfs file and returns a feed for that day. Not showing this here.*"
   ]
  },
  {
   "cell_type": "markdown",
   "metadata": {},
   "source": [
    "The feed has in it all the (standard) files in the original GTFS zip, as [pandas](https://github.com/pandas-dev/pandas) DataFrames."
   ]
  },
  {
   "cell_type": "code",
   "execution_count": 23,
   "metadata": {},
   "outputs": [
    {
     "data": {
      "text/plain": [
       "['agency',\n",
       " 'calendar',\n",
       " 'calendar_dates',\n",
       " 'config',\n",
       " 'fare_attributes',\n",
       " 'fare_rules',\n",
       " 'feed_info',\n",
       " 'frequencies',\n",
       " 'get',\n",
       " 'is_dir',\n",
       " 'path',\n",
       " 'read_file_chunks',\n",
       " 'routes',\n",
       " 'shapes',\n",
       " 'stop_times',\n",
       " 'stops',\n",
       " 'transfers',\n",
       " 'trips',\n",
       " 'view',\n",
       " 'zmap']"
      ]
     },
     "execution_count": 23,
     "metadata": {},
     "output_type": "execute_result"
    }
   ],
   "source": [
    "[x for x in dir(feed) if not x.startswith('_')]"
   ]
  },
  {
   "cell_type": "markdown",
   "metadata": {},
   "source": [
    "Figuring out geographical zones requires using another zip file on MoT's FTP, using `get_zones_df()`. Which returns a simple mapping `stop_code` -> (Hebrew) `zone_name` in a DataFrame as well."
   ]
  },
  {
   "cell_type": "code",
   "execution_count": 24,
   "metadata": {},
   "outputs": [
    {
     "data": {
      "text/html": [
       "<div>\n",
       "<style scoped>\n",
       "    .dataframe tbody tr th:only-of-type {\n",
       "        vertical-align: middle;\n",
       "    }\n",
       "\n",
       "    .dataframe tbody tr th {\n",
       "        vertical-align: top;\n",
       "    }\n",
       "\n",
       "    .dataframe thead th {\n",
       "        text-align: right;\n",
       "    }\n",
       "</style>\n",
       "<table border=\"1\" class=\"dataframe\">\n",
       "  <thead>\n",
       "    <tr style=\"text-align: right;\">\n",
       "      <th></th>\n",
       "      <th>stop_code</th>\n",
       "      <th>zone_name</th>\n",
       "    </tr>\n",
       "  </thead>\n",
       "  <tbody>\n",
       "    <tr>\n",
       "      <th>0</th>\n",
       "      <td>2716</td>\n",
       "      <td>סובב ירושלים</td>\n",
       "    </tr>\n",
       "    <tr>\n",
       "      <th>1</th>\n",
       "      <td>2718</td>\n",
       "      <td>סובב ירושלים</td>\n",
       "    </tr>\n",
       "    <tr>\n",
       "      <th>2</th>\n",
       "      <td>2720</td>\n",
       "      <td>סובב ירושלים</td>\n",
       "    </tr>\n",
       "    <tr>\n",
       "      <th>3</th>\n",
       "      <td>2721</td>\n",
       "      <td>סובב ירושלים</td>\n",
       "    </tr>\n",
       "    <tr>\n",
       "      <th>4</th>\n",
       "      <td>2747</td>\n",
       "      <td>סובב ירושלים</td>\n",
       "    </tr>\n",
       "  </tbody>\n",
       "</table>\n",
       "</div>"
      ],
      "text/plain": [
       "  stop_code     zone_name\n",
       "0      2716  סובב ירושלים\n",
       "1      2718  סובב ירושלים\n",
       "2      2720  סובב ירושלים\n",
       "3      2721  סובב ירושלים\n",
       "4      2747  סובב ירושלים"
      ]
     },
     "execution_count": 24,
     "metadata": {},
     "output_type": "execute_result"
    }
   ],
   "source": [
    "zones = get_zones_df(LOCAL_TARIFF_PATH)\n",
    "zones.head()"
   ]
  },
  {
   "cell_type": "markdown",
   "metadata": {},
   "source": [
    "## Tidy DataFrame\n",
    "A (monstrous) merged DataFrame for fancy analysis can be got using `get_tidy_feed_df()`, whom you pass a partridge feed and extra dataframes you want to merge to it (only `zones` is used here).\n",
    "\n",
    "This takes a few minutes (MoT's GTFS is big)"
   ]
  },
  {
   "cell_type": "code",
   "execution_count": 25,
   "metadata": {},
   "outputs": [],
   "source": [
    "f = get_tidy_feed_df(feed, [zones])"
   ]
  },
  {
   "cell_type": "markdown",
   "metadata": {},
   "source": [
    "and what you get is this:"
   ]
  },
  {
   "cell_type": "code",
   "execution_count": 26,
   "metadata": {},
   "outputs": [
    {
     "data": {
      "text/html": [
       "<div>\n",
       "<style scoped>\n",
       "    .dataframe tbody tr th:only-of-type {\n",
       "        vertical-align: middle;\n",
       "    }\n",
       "\n",
       "    .dataframe tbody tr th {\n",
       "        vertical-align: top;\n",
       "    }\n",
       "\n",
       "    .dataframe thead th {\n",
       "        text-align: right;\n",
       "    }\n",
       "</style>\n",
       "<table border=\"1\" class=\"dataframe\">\n",
       "  <thead>\n",
       "    <tr style=\"text-align: right;\">\n",
       "      <th></th>\n",
       "      <th>trip_id</th>\n",
       "      <th>departure_time</th>\n",
       "      <th>arrival_time</th>\n",
       "      <th>stop_id</th>\n",
       "      <th>stop_sequence</th>\n",
       "      <th>stop_name</th>\n",
       "      <th>stop_lat</th>\n",
       "      <th>stop_lon</th>\n",
       "      <th>stop_code</th>\n",
       "      <th>route_id</th>\n",
       "      <th>direction_id</th>\n",
       "      <th>route_short_name</th>\n",
       "      <th>route_long_name</th>\n",
       "      <th>agency_id</th>\n",
       "      <th>agency_name</th>\n",
       "      <th>zone_name</th>\n",
       "    </tr>\n",
       "  </thead>\n",
       "  <tbody>\n",
       "    <tr>\n",
       "      <th>0</th>\n",
       "      <td>32184517_040618</td>\n",
       "      <td>21:36:00</td>\n",
       "      <td>21:36:00</td>\n",
       "      <td>37318</td>\n",
       "      <td>1</td>\n",
       "      <td>ירושלים מלחה</td>\n",
       "      <td>31.747801</td>\n",
       "      <td>35.188216</td>\n",
       "      <td>17078</td>\n",
       "      <td>22786</td>\n",
       "      <td>1</td>\n",
       "      <td>NaN</td>\n",
       "      <td>ירושלים מלחה-ירושלים&lt;-&gt;תל אביב מרכז-תל אביב יפו</td>\n",
       "      <td>2</td>\n",
       "      <td>רכבת ישראל</td>\n",
       "      <td>סובב ירושלים</td>\n",
       "    </tr>\n",
       "    <tr>\n",
       "      <th>1</th>\n",
       "      <td>32184517_040618</td>\n",
       "      <td>22:19:00</td>\n",
       "      <td>22:19:00</td>\n",
       "      <td>37322</td>\n",
       "      <td>2</td>\n",
       "      <td>בית שמש</td>\n",
       "      <td>31.757821</td>\n",
       "      <td>34.989515</td>\n",
       "      <td>17074</td>\n",
       "      <td>22786</td>\n",
       "      <td>1</td>\n",
       "      <td>NaN</td>\n",
       "      <td>ירושלים מלחה-ירושלים&lt;-&gt;תל אביב מרכז-תל אביב יפו</td>\n",
       "      <td>2</td>\n",
       "      <td>רכבת ישראל</td>\n",
       "      <td>אזור בית שמש</td>\n",
       "    </tr>\n",
       "    <tr>\n",
       "      <th>2</th>\n",
       "      <td>32184517_040618</td>\n",
       "      <td>22:41:00</td>\n",
       "      <td>22:41:00</td>\n",
       "      <td>37336</td>\n",
       "      <td>3</td>\n",
       "      <td>רמלה</td>\n",
       "      <td>31.928809</td>\n",
       "      <td>34.877304</td>\n",
       "      <td>17060</td>\n",
       "      <td>22786</td>\n",
       "      <td>1</td>\n",
       "      <td>NaN</td>\n",
       "      <td>ירושלים מלחה-ירושלים&lt;-&gt;תל אביב מרכז-תל אביב יפו</td>\n",
       "      <td>2</td>\n",
       "      <td>רכבת ישראל</td>\n",
       "      <td>גוש דן</td>\n",
       "    </tr>\n",
       "    <tr>\n",
       "      <th>3</th>\n",
       "      <td>32184517_040618</td>\n",
       "      <td>22:45:00</td>\n",
       "      <td>22:45:00</td>\n",
       "      <td>37338</td>\n",
       "      <td>4</td>\n",
       "      <td>לוד</td>\n",
       "      <td>31.945234</td>\n",
       "      <td>34.875081</td>\n",
       "      <td>17058</td>\n",
       "      <td>22786</td>\n",
       "      <td>1</td>\n",
       "      <td>NaN</td>\n",
       "      <td>ירושלים מלחה-ירושלים&lt;-&gt;תל אביב מרכז-תל אביב יפו</td>\n",
       "      <td>2</td>\n",
       "      <td>רכבת ישראל</td>\n",
       "      <td>גוש דן</td>\n",
       "    </tr>\n",
       "    <tr>\n",
       "      <th>4</th>\n",
       "      <td>32184517_040618</td>\n",
       "      <td>22:51:00</td>\n",
       "      <td>22:51:00</td>\n",
       "      <td>37334</td>\n",
       "      <td>5</td>\n",
       "      <td>לוד-גני אביב</td>\n",
       "      <td>31.966977</td>\n",
       "      <td>34.878790</td>\n",
       "      <td>17062</td>\n",
       "      <td>22786</td>\n",
       "      <td>1</td>\n",
       "      <td>NaN</td>\n",
       "      <td>ירושלים מלחה-ירושלים&lt;-&gt;תל אביב מרכז-תל אביב יפו</td>\n",
       "      <td>2</td>\n",
       "      <td>רכבת ישראל</td>\n",
       "      <td>גוש דן</td>\n",
       "    </tr>\n",
       "  </tbody>\n",
       "</table>\n",
       "</div>"
      ],
      "text/plain": [
       "           trip_id departure_time arrival_time stop_id  stop_sequence  \\\n",
       "0  32184517_040618       21:36:00     21:36:00   37318              1   \n",
       "1  32184517_040618       22:19:00     22:19:00   37322              2   \n",
       "2  32184517_040618       22:41:00     22:41:00   37336              3   \n",
       "3  32184517_040618       22:45:00     22:45:00   37338              4   \n",
       "4  32184517_040618       22:51:00     22:51:00   37334              5   \n",
       "\n",
       "      stop_name   stop_lat   stop_lon stop_code route_id direction_id  \\\n",
       "0  ירושלים מלחה  31.747801  35.188216     17078    22786            1   \n",
       "1       בית שמש  31.757821  34.989515     17074    22786            1   \n",
       "2          רמלה  31.928809  34.877304     17060    22786            1   \n",
       "3           לוד  31.945234  34.875081     17058    22786            1   \n",
       "4  לוד-גני אביב  31.966977  34.878790     17062    22786            1   \n",
       "\n",
       "  route_short_name                                  route_long_name agency_id  \\\n",
       "0              NaN  ירושלים מלחה-ירושלים<->תל אביב מרכז-תל אביב יפו         2   \n",
       "1              NaN  ירושלים מלחה-ירושלים<->תל אביב מרכז-תל אביב יפו         2   \n",
       "2              NaN  ירושלים מלחה-ירושלים<->תל אביב מרכז-תל אביב יפו         2   \n",
       "3              NaN  ירושלים מלחה-ירושלים<->תל אביב מרכז-תל אביב יפו         2   \n",
       "4              NaN  ירושלים מלחה-ירושלים<->תל אביב מרכז-תל אביב יפו         2   \n",
       "\n",
       "  agency_name     zone_name  \n",
       "0  רכבת ישראל  סובב ירושלים  \n",
       "1  רכבת ישראל  אזור בית שמש  \n",
       "2  רכבת ישראל        גוש דן  \n",
       "3  רכבת ישראל        גוש דן  \n",
       "4  רכבת ישראל        גוש דן  "
      ]
     },
     "execution_count": 26,
     "metadata": {},
     "output_type": "execute_result"
    }
   ],
   "source": [
    "f.head()"
   ]
  },
  {
   "cell_type": "markdown",
   "metadata": {},
   "source": [
    "In the future I intend to make this more customizable (field selection, transformations and more). "
   ]
  },
  {
   "cell_type": "code",
   "execution_count": 27,
   "metadata": {},
   "outputs": [
    {
     "data": {
      "text/plain": [
       "(3151606, 16)"
      ]
     },
     "execution_count": 27,
     "metadata": {},
     "output_type": "execute_result"
    }
   ],
   "source": [
    "f.shape"
   ]
  },
  {
   "cell_type": "code",
   "execution_count": 28,
   "metadata": {},
   "outputs": [
    {
     "data": {
      "text/plain": [
       "(3151606, 8)"
      ]
     },
     "execution_count": 28,
     "metadata": {},
     "output_type": "execute_result"
    }
   ],
   "source": [
    "feed.stop_times.shape"
   ]
  },
  {
   "cell_type": "markdown",
   "metadata": {},
   "source": [
    "So we truly have all the stop times for one whole day of trips."
   ]
  },
  {
   "cell_type": "markdown",
   "metadata": {},
   "source": [
    "## Random examples"
   ]
  },
  {
   "cell_type": "code",
   "execution_count": 29,
   "metadata": {},
   "outputs": [
    {
     "data": {
      "text/plain": [
       "<matplotlib.axes._subplots.AxesSubplot at 0x210a3acee80>"
      ]
     },
     "execution_count": 29,
     "metadata": {},
     "output_type": "execute_result"
    },
    {
     "data": {
      "image/png": "[encoded data removed]",
      "text/plain": [
       "<matplotlib.figure.Figure at 0x210a3526d30>"
      ]
     },
     "metadata": {},
     "output_type": "display_data"
    }
   ],
   "source": [
    "f.set_index('arrival_time').resample('10T').size().plot()"
   ]
  },
  {
   "cell_type": "code",
   "execution_count": 78,
   "metadata": {},
   "outputs": [],
   "source": [
    "zone_counts = (f.set_index('arrival_time')\n",
    "               .groupby([pd.Grouper(freq='10T'), 'zone_name'])\n",
    "               .size().reset_index()\n",
    "               .rename(columns={0: 'trips'})\n",
    "               .assign(time = lambda x: pd.DatetimeIndex(x.arrival_time+datetime.date.today()))\n",
    "              )"
   ]
  },
  {
   "cell_type": "code",
   "execution_count": 103,
   "metadata": {},
   "outputs": [
    {
     "data": {
      "text/html": [
       "<div class=\"vega-embed\" id=\"c376271e-5cd9-4628-8904-22bdfd92cde5\"></div>\n",
       "\n",
       "<style>\n",
       ".vega-embed .vega-actions > a {\n",
       "    transition: opacity 200ms ease-in;\n",
       "    opacity: 0.3;\n",
       "    margin-right: 0.6em;\n",
       "    color: #444;\n",
       "    text-decoration: none;\n",
       "}\n",
       "\n",
       ".vega-embed .vega-actions > a:hover {\n",
       "    color: #000;\n",
       "    text-decoration: underline;\n",
       "}\n",
       "\n",
       ".vega-embed:hover .vega-actions > a {\n",
       "    opacity: 1;\n",
       "    transition: 0s;\n",
       "}\n",
       "\n",
       ".vega-embed .error p {\n",
       "    color: firebrick;\n",
       "    font-size: 1.2em;\n",
       "}\n",
       "</style>\n"
      ]
     },
     "metadata": {
      "jupyter-vega3": "#c376271e-5cd9-4628-8904-22bdfd92cde5"
     },
     "output_type": "display_data"
    },
    {
     "data": {
      "application/javascript": [
       "var spec = {\"config\": {\"view\": {\"width\": 400, \"height\": 300}}, \"layer\": [{\"data\": {\"url\": \"altair-data-207d55d7-3f5c-40fd-b29f-afae37f3f238.json\", \"format\": {\"type\": \"json\"}}, \"mark\": \"line\", \"encoding\": {\"color\": {\"type\": \"nominal\", \"field\": \"zone_name\", \"legend\": null}, \"tooltip\": {\"type\": \"nominal\", \"field\": \"zone_name\"}, \"x\": {\"type\": \"temporal\", \"axis\": {\"format\": \"%H:%M\"}, \"field\": \"time\"}, \"y\": {\"type\": \"quantitative\", \"field\": \"trips\"}}, \"selection\": {\"selector035\": {\"type\": \"interval\", \"bind\": \"scales\", \"encodings\": [\"x\", \"y\"]}}}, {\"data\": {\"url\": \"altair-data-004affd1-27da-4ac5-9d3e-36389bee7f7f.json\", \"format\": {\"type\": \"json\"}}, \"mark\": {\"type\": \"text\", \"align\": \"left\", \"baseline\": \"middle\", \"dx\": 4, \"fontSize\": 12}, \"encoding\": {\"text\": {\"type\": \"nominal\", \"field\": \"zone_name\"}, \"x\": {\"type\": \"temporal\", \"field\": \"time\"}, \"y\": {\"type\": \"quantitative\", \"field\": \"trips\"}}, \"transform\": [{\"filter\": \"(((datum.trips === 8785) || (datum.trips === 5347)) || (datum.trips === 1985))\"}]}], \"height\": 400, \"width\": 600, \"$schema\": \"https://vega.github.io/schema/vega-lite/v2.4.1.json\"};\n",
       "var opt = {};\n",
       "var selector = \"#c376271e-5cd9-4628-8904-22bdfd92cde5\";\n",
       "var type = \"vega-lite\";\n",
       "\n",
       "var output_area = this;\n",
       "\n",
       "require(['nbextensions/jupyter-vega3/index'], function(vega) {\n",
       "  vega.render(selector, spec, type, opt, output_area);\n",
       "}, function (err) {\n",
       "  if (err.requireType !== 'scripterror') {\n",
       "    throw(err);\n",
       "  }\n",
       "});\n"
      ]
     },
     "metadata": {
      "jupyter-vega3": "#c376271e-5cd9-4628-8904-22bdfd92cde5"
     },
     "output_type": "display_data"
    },
    {
     "data": {
      "text/plain": []
     },
     "execution_count": 103,
     "metadata": {},
     "output_type": "execute_result"
    },
    {
     "data": {
      "image/png": "[encoded data removed]"
     },
     "metadata": {
      "jupyter-vega3": "#c376271e-5cd9-4628-8904-22bdfd92cde5"
     },
     "output_type": "display_data"
    }
   ],
   "source": [
    "lines = alt.Chart(zone_counts).mark_line().encode(\n",
    "    x = alt.X('time:T', axis=alt.Axis(format='%H:%M')),\n",
    "    y = 'trips',\n",
    "    color = alt.Color('zone_name', legend=None),\n",
    "    tooltip = 'zone_name'\n",
    ").interactive()\n",
    "\n",
    "annotation = alt.Chart(zone_counts).mark_text(\n",
    "    align='left',\n",
    "    baseline='middle',\n",
    "    fontSize = 12,\n",
    "    dx = 4\n",
    ").encode(\n",
    "    x='time:T',\n",
    "    y='trips',\n",
    "    text='zone_name'\n",
    ").transform_filter(\n",
    "    ((alt.datum.trips==8785) | (alt.datum.trips == 5347) | (alt.datum.trips == 1985)) \n",
    ")\n",
    "\n",
    "(lines + annotation).properties(height=400, width=600)"
   ]
  },
  {
   "cell_type": "code",
   "execution_count": null,
   "metadata": {},
   "outputs": [],
   "source": []
  },
  {
   "cell_type": "code",
   "execution_count": null,
   "metadata": {},
   "outputs": [],
   "source": []
  }
 ],
 "metadata": {
  "kernelspec": {
   "display_name": "Python 3",
   "language": "python",
   "name": "python3"
  },
  "language_info": {
   "codemirror_mode": {
    "name": "ipython",
    "version": 3
   },
   "file_extension": ".py",
   "mimetype": "text/x-python",
   "name": "python",
   "nbconvert_exporter": "python",
   "pygments_lexer": "ipython3",
   "version": "3.6.3"
  }
 },
 "nbformat": 4,
 "nbformat_minor": 2
}
