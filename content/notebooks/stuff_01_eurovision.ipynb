{
 "cells": [
  {
   "cell_type": "code",
   "execution_count": 37,
   "metadata": {},
   "outputs": [],
   "source": [
    "import pandas as pd\n",
    "import numpy as np\n",
    "import altair as alt\n",
    "import requests\n",
    "import qgrid\n",
    "import networkx as nx\n",
    "\n",
    "qgrid.enable()"
   ]
  },
  {
   "cell_type": "markdown",
   "metadata": {},
   "source": [
    "## Scrape Eurovision vote data"
   ]
  },
  {
   "cell_type": "code",
   "execution_count": 17,
   "metadata": {},
   "outputs": [],
   "source": [
    "proper_names = [\"Albania\", \"Armenia\", \"Australia\", \"Austria\", \n",
    "                \"Azerbaijan\", \"Belarus\", \"Belgium\", \"Bulgaria\", \n",
    "                \"Croatia\", \"Cyprus\", \"Czech Republic\", \"Denmark\", \n",
    "                \"Estonia\", \"F.Y.R. Macedonia\", \"Finland\", \"France\", \n",
    "                \"Georgia\", \"Germany\", \"Greece\", \"Hungary\", \n",
    "                \"Iceland\", \"Ireland\", \"Israel\", \"Italy\", \"Latvia\", \n",
    "                \"Lithuania\", \"Malta\", \"Moldova\", \"Montenegro\", \n",
    "                \"Norway\", \"Poland\", \"Portugal\", \"Romania\", \n",
    "                \"Russia\", \"San Marino\", \"Serbia\", \"Slovenia\", \n",
    "                \"Spain\", \"Sweden\", \"Switzerland\", \"The Netherlands\", \n",
    "                \"Ukraine\", \"United Kingdom\"]\n",
    "\n",
    "countries = [\"albania\", \"armenia\", \"australia\", \"austria\", \n",
    "             \"azerbaijan\", \"belarus\", \"belgium\", \"bulgaria\", \n",
    "             \"croatia\", \"cyprus\", \"czech-republic\", \"denmark\", \n",
    "             \"estonia\", \"fyr-macedonia\", \"finland\", \"france\", \n",
    "             \"georgia\", \"germany\", \"greece\", \"hungary\", \n",
    "             \"iceland\", \"ireland\", \"israel\", \"italy\", \"latvia\", \n",
    "             \"lithuania\", \"malta\", \"moldova\", \"montenegro\", \n",
    "             \"norway\", \"poland\", \"portugal\", \"romania\", \n",
    "             \"russia\", \"san-marino\", \"serbia\", \"slovenia\", \n",
    "             \"spain\", \"sweden\", \"switzerland\", \"the-netherlands\", \n",
    "             \"ukraine\", \"united-kingdom\"]"
   ]
  },
  {
   "cell_type": "code",
   "execution_count": 13,
   "metadata": {},
   "outputs": [],
   "source": [
    "url = 'https://eurovision.tv/event/lisbon-2018/grand-final/voting-details/'\n",
    "\n",
    "header = {\n",
    "  \"User-Agent\": \"Mozilla/5.0 (X11; Linux x86_64) AppleWebKit/537.36 (KHTML, like Gecko) Chrome/50.0.2661.75 Safari/537.36\",\n",
    "  \"X-Requested-With\": \"XMLHttpRequest\"\n",
    "}\n",
    "\n",
    "dfs = []\n",
    "\n",
    "for c in countries:\n",
    "    r = requests.get(url+c, headers=header)\n",
    "    dfs.extend(pd.read_html(r.text, match='Participants'))"
   ]
  },
  {
   "cell_type": "markdown",
   "metadata": {},
   "source": [
    "## Append to on DataFrame"
   ]
  },
  {
   "cell_type": "code",
   "execution_count": 66,
   "metadata": {
    "scrolled": true
   },
   "outputs": [],
   "source": [
    "\n",
    "def to_numeric(df):\n",
    "    '''\n",
    "    Turn timedelta columns into numeric dtype\n",
    "    '''\n",
    "    cols = ['A', 'B', 'C', 'D', 'E', 'Jury rank', 'Jury points',\n",
    "           'Televoting rank', 'Televoting points']\n",
    "    numeric = df[cols].apply(pd.to_numeric, errors='coerce')\n",
    "    df = df.copy()\n",
    "    df[cols] = numeric\n",
    "    return df\n",
    "\n",
    "df = (pd.concat(dfs, keys=proper_names)\n",
    "             .pipe(to_numeric))"
   ]
  },
  {
   "cell_type": "markdown",
   "metadata": {},
   "source": [
    "## Calculate \"antisemitism\""
   ]
  },
  {
   "cell_type": "code",
   "execution_count": 119,
   "metadata": {
    "scrolled": false
   },
   "outputs": [
    {
     "data": {
      "application/vnd.jupyter.widget-view+json": {
       "model_id": "2fbcc8b5397a43b09858c126f1741568",
       "version_major": 2,
       "version_minor": 0
      },
      "text/html": [
       "<p>Failed to display Jupyter Widget of type <code>QgridWidget</code>.</p>\n",
       "<p>\n",
       "  If you're reading this message in the Jupyter Notebook or JupyterLab Notebook, it may mean\n",
       "  that the widgets JavaScript is still loading. If this message persists, it\n",
       "  likely means that the widgets JavaScript library is either not installed or\n",
       "  not enabled. See the <a href=\"https://ipywidgets.readthedocs.io/en/stable/user_install.html\">Jupyter\n",
       "  Widgets Documentation</a> for setup instructions.\n",
       "</p>\n",
       "<p>\n",
       "  If you're reading this message in another frontend (for example, a static\n",
       "  rendering on GitHub or <a href=\"https://nbviewer.jupyter.org/\">NBViewer</a>),\n",
       "  it may mean that your frontend doesn't currently support widgets.\n",
       "</p>\n"
      ],
      "text/plain": [
       "QgridWidget(grid_options={'fullWidthRows': True, 'syncColumnCellResize': True, 'forceFitColumns': True, 'defaultColumnWidth': 150, 'rowHeight': 28, 'enableColumnReorder': False, 'enableTextSelectionOnCells': True, 'editable': True, 'autoEdit': False, 'explicitInitialization': True, 'maxVisibleRows': 100, 'minVisibleRows': 8, 'sortable': True, 'filterable': True, 'highlightSelectedCell': False, 'highlightSelectedRow': True}, precision=5)"
      ]
     },
     "metadata": {},
     "output_type": "display_data"
    }
   ],
   "source": [
    "qgrid.set_grid_option('maxVisibleRows', 100)\n",
    "\n",
    "(df[['Participants', 'A', 'B', 'C', 'D', 'E']][df.Participants=='Israel']\n",
    " .assign(jury_avg_rank = lambda x: (x.A+x.B+x.C+x.D+x.E)/5)\n",
    " .assign(Antisemitism = lambda x: x.jury_avg_rank.rank(ascending=False))\n",
    " .reset_index()[['level_0', 'jury_avg_rank', 'Antisemitism']]\n",
    " .rename(columns={'level_0': 'Country', 'jury_avg_rank': 'Jury Average Ranking'}).set_index('Country')\n",
    ")"
   ]
  },
  {
   "cell_type": "code",
   "execution_count": 123,
   "metadata": {},
   "outputs": [
    {
     "data": {
      "application/vnd.jupyter.widget-view+json": {
       "model_id": "f96d2a1d6f5a4fbbbbd3ee275bf7d477",
       "version_major": 2,
       "version_minor": 0
      },
      "text/html": [
       "<p>Failed to display Jupyter Widget of type <code>QgridWidget</code>.</p>\n",
       "<p>\n",
       "  If you're reading this message in the Jupyter Notebook or JupyterLab Notebook, it may mean\n",
       "  that the widgets JavaScript is still loading. If this message persists, it\n",
       "  likely means that the widgets JavaScript library is either not installed or\n",
       "  not enabled. See the <a href=\"https://ipywidgets.readthedocs.io/en/stable/user_install.html\">Jupyter\n",
       "  Widgets Documentation</a> for setup instructions.\n",
       "</p>\n",
       "<p>\n",
       "  If you're reading this message in another frontend (for example, a static\n",
       "  rendering on GitHub or <a href=\"https://nbviewer.jupyter.org/\">NBViewer</a>),\n",
       "  it may mean that your frontend doesn't currently support widgets.\n",
       "</p>\n"
      ],
      "text/plain": [
       "QgridWidget(grid_options={'fullWidthRows': True, 'syncColumnCellResize': True, 'forceFitColumns': True, 'defaultColumnWidth': 150, 'rowHeight': 28, 'enableColumnReorder': False, 'enableTextSelectionOnCells': True, 'editable': True, 'autoEdit': False, 'explicitInitialization': True, 'maxVisibleRows': 100, 'minVisibleRows': 8, 'sortable': True, 'filterable': True, 'highlightSelectedCell': False, 'highlightSelectedRow': True}, precision=5)"
      ]
     },
     "metadata": {},
     "output_type": "display_data"
    }
   ],
   "source": [
    "(df[['Participants', 'A', 'B', 'C', 'D', 'E']][df.Participants=='Israel']\n",
    " .assign(jury_avg_rank = lambda x: (x.A+x.B+x.C+x.D+x.E)/5)\n",
    " .assign(Antisemitism = lambda x: x.jury_avg_rank.rank(ascending=False, method='min'))\n",
    " .reset_index()[['level_0', 'jury_avg_rank', 'Antisemitism', 'A', 'B', 'C', 'D', 'E']]\n",
    " .rename(columns={'level_0': 'Country', 'jury_avg_rank': 'Jury Average Ranking'}).set_index('Country'))"
   ]
  },
  {
   "cell_type": "code",
   "execution_count": 120,
   "metadata": {},
   "outputs": [],
   "source": [
    "(df[['Participants', 'A', 'B', 'C', 'D', 'E']][df.Participants=='Israel']\n",
    " .assign(jury_avg_rank = lambda x: (x.A+x.B+x.C+x.D+x.E)/5)\n",
    " .assign(Antisemitism = lambda x: x.jury_avg_rank.rank(ascending=False))\n",
    " .reset_index()[['level_0', 'jury_avg_rank', 'Antisemitism']]\n",
    " .rename(columns={'level_0': 'Country', 'jury_avg_rank': 'Jury Average Ranking'}).set_index('Country')\n",
    ").to_csv('eurovision/antisemite.csv')"
   ]
  },
  {
   "cell_type": "code",
   "execution_count": 101,
   "metadata": {},
   "outputs": [],
   "source": [
    "df.to_csv('eurovision/all.csv')"
   ]
  },
  {
   "cell_type": "markdown",
   "metadata": {},
   "source": [
    "## Create adjacency matrix for graph stuff"
   ]
  },
  {
   "cell_type": "code",
   "execution_count": 99,
   "metadata": {},
   "outputs": [],
   "source": [
    "def get_adj(df, weight_col, reindex=True):\n",
    "    adj = (df.reset_index()[['level_0', 'Participants', weight_col]]\n",
    "              .rename(columns={'level_0': 'from', 'Participants': 'to', weight_col: 'weight'})\n",
    "              .pivot(index='from', columns='to', values='weight')\n",
    "              )\n",
    "    if reindex:\n",
    "        adj = adj.reindex(labels=proper_names, axis=1)\n",
    "    return adj"
   ]
  },
  {
   "cell_type": "code",
   "execution_count": 91,
   "metadata": {
    "scrolled": true
   },
   "outputs": [],
   "source": [
    "jury_ranks = get_adj(df, 'Jury rank')\n",
    "jury_points = get_adj(df, 'Jury points')\n",
    "tele = get_adj(df, 'Televoting points')\n"
   ]
  },
  {
   "cell_type": "code",
   "execution_count": 92,
   "metadata": {},
   "outputs": [],
   "source": [
    "G = nx.from_pandas_adjacency(tele.fillna(0))\n",
    "nx.write_gexf(G, 'eurovision/euro18_tele_points.gexf')"
   ]
  },
  {
   "cell_type": "code",
   "execution_count": 96,
   "metadata": {},
   "outputs": [
    {
     "data": {
      "text/plain": [
       "{'Albania': 'Albania',\n",
       " 'Armenia': 'Armenia',\n",
       " 'Australia': 'Australia',\n",
       " 'Austria': 'Austria',\n",
       " 'Azerbaijan': 'Azerbaijan',\n",
       " 'Belarus': 'Belarus',\n",
       " 'Belgium': 'Belgium',\n",
       " 'Bulgaria': 'Bulgaria',\n",
       " 'Croatia': 'Croatia',\n",
       " 'Cyprus': 'Cyprus',\n",
       " 'Czech Republic': 'Czech_Republic',\n",
       " 'Denmark': 'Denmark',\n",
       " 'Estonia': 'Estonia',\n",
       " 'F.Y.R. Macedonia': 'FYR_Macedonia',\n",
       " 'Finland': 'Finland',\n",
       " 'France': 'France',\n",
       " 'Georgia': 'Georgia',\n",
       " 'Germany': 'Germany',\n",
       " 'Greece': 'Greece',\n",
       " 'Hungary': 'Hungary',\n",
       " 'Iceland': 'Iceland',\n",
       " 'Ireland': 'Ireland',\n",
       " 'Israel': 'Israel',\n",
       " 'Italy': 'Italy',\n",
       " 'Latvia': 'Latvia',\n",
       " 'Lithuania': 'Lithuania',\n",
       " 'Malta': 'Malta',\n",
       " 'Moldova': 'Moldova',\n",
       " 'Montenegro': 'Montenegro',\n",
       " 'Norway': 'Norway',\n",
       " 'Poland': 'Poland',\n",
       " 'Portugal': 'Portugal',\n",
       " 'Romania': 'Romania',\n",
       " 'Russia': 'Russia',\n",
       " 'San Marino': 'San_Marino',\n",
       " 'Serbia': 'Serbia',\n",
       " 'Slovenia': 'Slovenia',\n",
       " 'Spain': 'Spain',\n",
       " 'Sweden': 'Sweden',\n",
       " 'Switzerland': 'Switzerland',\n",
       " 'The Netherlands': 'The_Netherlands',\n",
       " 'Ukraine': 'Ukraine',\n",
       " 'United Kingdom': 'United_Kingdom'}"
      ]
     },
     "execution_count": 96,
     "metadata": {},
     "output_type": "execute_result"
    }
   ],
   "source": [
    "clean_names = dict(zip(proper_names, [c.replace(' ', '_').replace('.', '') for c in proper_names]))\n",
    "clean_names"
   ]
  },
  {
   "cell_type": "code",
   "execution_count": 97,
   "metadata": {},
   "outputs": [],
   "source": [
    "tele.fillna('-').rename(columns=clean_names, index=clean_names).to_csv('eurovision/tele_circ.csv', sep='\\t')"
   ]
  },
  {
   "cell_type": "code",
   "execution_count": 98,
   "metadata": {},
   "outputs": [],
   "source": [
    "jury_points.fillna('-').rename(columns=clean_names, index=clean_names).to_csv('eurovision/jury_circ.csv', sep='\\t')"
   ]
  },
  {
   "cell_type": "code",
   "execution_count": 100,
   "metadata": {},
   "outputs": [],
   "source": [
    "tele_circ = get_adj(df, 'Televoting points', reindex=False)\n",
    "jury_circ = get_adj(df, 'Jury points', reindex=False)\n",
    "tele_circ.fillna('-').rename(columns=clean_names, index=clean_names).to_csv('eurovision/tele_circ.csv', sep='\\t')\n",
    "jury_circ.fillna('-').rename(columns=clean_names, index=clean_names).to_csv('eurovision/jury_circ.csv', sep='\\t')"
   ]
  },
  {
   "cell_type": "code",
   "execution_count": null,
   "metadata": {},
   "outputs": [],
   "source": []
  }
 ],
 "metadata": {
  "kernelspec": {
   "display_name": "Python 3",
   "language": "python",
   "name": "python3"
  },
  "language_info": {
   "codemirror_mode": {
    "name": "ipython",
    "version": 3
   },
   "file_extension": ".py",
   "mimetype": "text/x-python",
   "name": "python",
   "nbconvert_exporter": "python",
   "pygments_lexer": "ipython3",
   "version": "3.6.3"
  }
 },
 "nbformat": 4,
 "nbformat_minor": 2
}
